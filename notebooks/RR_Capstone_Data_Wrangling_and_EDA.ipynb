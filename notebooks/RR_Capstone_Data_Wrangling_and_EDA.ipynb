{
 "cells": [
  {
   "cell_type": "markdown",
   "id": "8c58622e",
   "metadata": {},
   "source": [
    "# Recipe Recommender System - Data Wrangling & EDA"
   ]
  },
  {
   "cell_type": "markdown",
   "id": "e320645f",
   "metadata": {},
   "source": [
    "## Capstone Project Three: Springboard Data Science Career Track \n",
    "\n",
    "### Notebook by Manthan Desai"
   ]
  },
  {
   "cell_type": "markdown",
   "id": "543e8d28",
   "metadata": {},
   "source": [
    "## Introduction:"
   ]
  },
  {
   "cell_type": "markdown",
   "id": "cde6adb6",
   "metadata": {},
   "source": [
    "## 1. Problem Statement:"
   ]
  },
  {
   "cell_type": "markdown",
   "id": "246492a9",
   "metadata": {},
   "source": [
    "Develop a robust recipe recommender system leveraging a comprehensive dataset of recipes and a corresponding dataset of user reviews. The goal is to enhance the culinary experience for users by creating a personalized recommendation engine that suggests recipes based on individual preferences and past review history. Addressing challenges such as data integration, user profiling, and algorithmic efficiency, the system should provide accurate and diverse recommendations while accommodating users with varying dietary preferences and cultural tastes. "
   ]
  },
  {
   "cell_type": "markdown",
   "id": "d257a946",
   "metadata": {},
   "source": [
    "## 2. The Data:"
   ]
  },
  {
   "cell_type": "markdown",
   "id": "583a50c3",
   "metadata": {},
   "source": [
    "The datasets are acquired from Kaggle.com\n",
    "(https://www.kaggle.com/datasets/shuyangli94/food-com-recipes-and-user-interactions). \n",
    "\n",
    "Recipe Dataset:\n",
    "\n",
    " - name - Recipe name\n",
    " - id - Recipe ID\n",
    " - minutes - Recipe prep time in minutes\n",
    " - contributter_id - User ID\n",
    " - submitted - Date of recipe submission\n",
    " - tags - List of keywords associated with the recipe\n",
    " - Nutrition - List of values corresponding to different nutritional elements \n",
    " - n_steps - Number of steps\n",
    " - steps - List of the recipe steps\n",
    " - description - Recipe description\n",
    " - ingredients - Recipe ingredients\n",
    " - n_ingredients - number of ingredients\n",
    " \n",
    "Users dataset:\n",
    "\n",
    " - user_id - Unique user ID\n",
    " - recipe_id - Recipe ID\n",
    " - date - Date of review submission\n",
    " - rating - Numeric rating between 0-5\n",
    " - review - written review of the users"
   ]
  },
  {
   "cell_type": "markdown",
   "id": "f24b1145",
   "metadata": {},
   "source": [
    "### Library Imports and Data Collection"
   ]
  },
  {
   "cell_type": "code",
   "execution_count": 35,
   "id": "cbc74cbd",
   "metadata": {},
   "outputs": [],
   "source": [
    "import pandas as pd\n",
    "import numpy as np\n",
    "import seaborn as sns\n",
    "import matplotlib.pyplot as plt\n",
    "import spacy\n",
    "import re\n",
    "from library.sb_utils import save_file\n",
    "\n",
    "#ignore warning messages to ensure clean outputs\n",
    "import warnings\n",
    "warnings.filterwarnings('ignore')"
   ]
  },
  {
   "cell_type": "code",
   "execution_count": 2,
   "id": "5ebab777",
   "metadata": {},
   "outputs": [],
   "source": [
    "recipes_df = pd.read_csv('../data/RAW_recipes.csv')\n",
    "users_df = pd.read_csv('../data/RAW_interactions.csv')"
   ]
  },
  {
   "cell_type": "markdown",
   "id": "f6279631",
   "metadata": {},
   "source": [
    "### Data Wrangling & Feature Engineering for Recipes Dataset"
   ]
  },
  {
   "cell_type": "code",
   "execution_count": 3,
   "id": "858452c4",
   "metadata": {},
   "outputs": [
    {
     "data": {
      "text/html": [
       "<div>\n",
       "<style scoped>\n",
       "    .dataframe tbody tr th:only-of-type {\n",
       "        vertical-align: middle;\n",
       "    }\n",
       "\n",
       "    .dataframe tbody tr th {\n",
       "        vertical-align: top;\n",
       "    }\n",
       "\n",
       "    .dataframe thead th {\n",
       "        text-align: right;\n",
       "    }\n",
       "</style>\n",
       "<table border=\"1\" class=\"dataframe\">\n",
       "  <thead>\n",
       "    <tr style=\"text-align: right;\">\n",
       "      <th></th>\n",
       "      <th>name</th>\n",
       "      <th>id</th>\n",
       "      <th>minutes</th>\n",
       "      <th>contributor_id</th>\n",
       "      <th>submitted</th>\n",
       "      <th>tags</th>\n",
       "      <th>nutrition</th>\n",
       "      <th>n_steps</th>\n",
       "      <th>steps</th>\n",
       "      <th>description</th>\n",
       "      <th>ingredients</th>\n",
       "      <th>n_ingredients</th>\n",
       "    </tr>\n",
       "  </thead>\n",
       "  <tbody>\n",
       "    <tr>\n",
       "      <th>0</th>\n",
       "      <td>arriba   baked winter squash mexican style</td>\n",
       "      <td>137739</td>\n",
       "      <td>55</td>\n",
       "      <td>47892</td>\n",
       "      <td>2005-09-16</td>\n",
       "      <td>['60-minutes-or-less', 'time-to-make', 'course...</td>\n",
       "      <td>[51.5, 0.0, 13.0, 0.0, 2.0, 0.0, 4.0]</td>\n",
       "      <td>11</td>\n",
       "      <td>['make a choice and proceed with recipe', 'dep...</td>\n",
       "      <td>autumn is my favorite time of year to cook! th...</td>\n",
       "      <td>['winter squash', 'mexican seasoning', 'mixed ...</td>\n",
       "      <td>7</td>\n",
       "    </tr>\n",
       "    <tr>\n",
       "      <th>1</th>\n",
       "      <td>a bit different  breakfast pizza</td>\n",
       "      <td>31490</td>\n",
       "      <td>30</td>\n",
       "      <td>26278</td>\n",
       "      <td>2002-06-17</td>\n",
       "      <td>['30-minutes-or-less', 'time-to-make', 'course...</td>\n",
       "      <td>[173.4, 18.0, 0.0, 17.0, 22.0, 35.0, 1.0]</td>\n",
       "      <td>9</td>\n",
       "      <td>['preheat oven to 425 degrees f', 'press dough...</td>\n",
       "      <td>this recipe calls for the crust to be prebaked...</td>\n",
       "      <td>['prepared pizza crust', 'sausage patty', 'egg...</td>\n",
       "      <td>6</td>\n",
       "    </tr>\n",
       "    <tr>\n",
       "      <th>2</th>\n",
       "      <td>all in the kitchen  chili</td>\n",
       "      <td>112140</td>\n",
       "      <td>130</td>\n",
       "      <td>196586</td>\n",
       "      <td>2005-02-25</td>\n",
       "      <td>['time-to-make', 'course', 'preparation', 'mai...</td>\n",
       "      <td>[269.8, 22.0, 32.0, 48.0, 39.0, 27.0, 5.0]</td>\n",
       "      <td>6</td>\n",
       "      <td>['brown ground beef in large pot', 'add choppe...</td>\n",
       "      <td>this modified version of 'mom's' chili was a h...</td>\n",
       "      <td>['ground beef', 'yellow onions', 'diced tomato...</td>\n",
       "      <td>13</td>\n",
       "    </tr>\n",
       "  </tbody>\n",
       "</table>\n",
       "</div>"
      ],
      "text/plain": [
       "                                         name      id  minutes  \\\n",
       "0  arriba   baked winter squash mexican style  137739       55   \n",
       "1            a bit different  breakfast pizza   31490       30   \n",
       "2                   all in the kitchen  chili  112140      130   \n",
       "\n",
       "   contributor_id   submitted  \\\n",
       "0           47892  2005-09-16   \n",
       "1           26278  2002-06-17   \n",
       "2          196586  2005-02-25   \n",
       "\n",
       "                                                tags  \\\n",
       "0  ['60-minutes-or-less', 'time-to-make', 'course...   \n",
       "1  ['30-minutes-or-less', 'time-to-make', 'course...   \n",
       "2  ['time-to-make', 'course', 'preparation', 'mai...   \n",
       "\n",
       "                                    nutrition  n_steps  \\\n",
       "0       [51.5, 0.0, 13.0, 0.0, 2.0, 0.0, 4.0]       11   \n",
       "1   [173.4, 18.0, 0.0, 17.0, 22.0, 35.0, 1.0]        9   \n",
       "2  [269.8, 22.0, 32.0, 48.0, 39.0, 27.0, 5.0]        6   \n",
       "\n",
       "                                               steps  \\\n",
       "0  ['make a choice and proceed with recipe', 'dep...   \n",
       "1  ['preheat oven to 425 degrees f', 'press dough...   \n",
       "2  ['brown ground beef in large pot', 'add choppe...   \n",
       "\n",
       "                                         description  \\\n",
       "0  autumn is my favorite time of year to cook! th...   \n",
       "1  this recipe calls for the crust to be prebaked...   \n",
       "2  this modified version of 'mom's' chili was a h...   \n",
       "\n",
       "                                         ingredients  n_ingredients  \n",
       "0  ['winter squash', 'mexican seasoning', 'mixed ...              7  \n",
       "1  ['prepared pizza crust', 'sausage patty', 'egg...              6  \n",
       "2  ['ground beef', 'yellow onions', 'diced tomato...             13  "
      ]
     },
     "execution_count": 3,
     "metadata": {},
     "output_type": "execute_result"
    }
   ],
   "source": [
    "recipes_df.head(3)"
   ]
  },
  {
   "cell_type": "code",
   "execution_count": 4,
   "id": "def53ab2",
   "metadata": {},
   "outputs": [
    {
     "data": {
      "text/plain": [
       "Index(['name', 'id', 'minutes', 'contributor_id', 'submitted', 'tags',\n",
       "       'nutrition', 'n_steps', 'steps', 'description', 'ingredients',\n",
       "       'n_ingredients'],\n",
       "      dtype='object')"
      ]
     },
     "execution_count": 4,
     "metadata": {},
     "output_type": "execute_result"
    }
   ],
   "source": [
    "recipes_df.columns"
   ]
  },
  {
   "cell_type": "code",
   "execution_count": 5,
   "id": "92f0ed5e",
   "metadata": {},
   "outputs": [
    {
     "data": {
      "text/plain": [
       "name                 1\n",
       "id                   0\n",
       "minutes              0\n",
       "contributor_id       0\n",
       "submitted            0\n",
       "tags                 0\n",
       "nutrition            0\n",
       "n_steps              0\n",
       "steps                0\n",
       "description       4979\n",
       "ingredients          0\n",
       "n_ingredients        0\n",
       "dtype: int64"
      ]
     },
     "execution_count": 5,
     "metadata": {},
     "output_type": "execute_result"
    }
   ],
   "source": [
    "recipes_df.isnull().sum()"
   ]
  },
  {
   "cell_type": "code",
   "execution_count": 6,
   "id": "a10768f2",
   "metadata": {},
   "outputs": [
    {
     "data": {
      "text/plain": [
       "name              object\n",
       "id                 int64\n",
       "minutes            int64\n",
       "contributor_id     int64\n",
       "submitted         object\n",
       "tags              object\n",
       "nutrition         object\n",
       "n_steps            int64\n",
       "steps             object\n",
       "description       object\n",
       "ingredients       object\n",
       "n_ingredients      int64\n",
       "dtype: object"
      ]
     },
     "execution_count": 6,
     "metadata": {},
     "output_type": "execute_result"
    }
   ],
   "source": [
    "recipes_df.dtypes"
   ]
  },
  {
   "cell_type": "markdown",
   "id": "d583562e",
   "metadata": {},
   "source": [
    "The data doesn't have missing values for any useful columns thus imputation is not necessary. The description column does not contain any valuable information which is worth extracting, hence can be removed. Feature engineering remains critical for this dataset. The nutrition feature contains a list of 7 values for each record which can be seperated into individual columns for better analysis."
   ]
  },
  {
   "cell_type": "code",
   "execution_count": 8,
   "id": "25776342",
   "metadata": {},
   "outputs": [
    {
     "data": {
      "text/html": [
       "<div>\n",
       "<style scoped>\n",
       "    .dataframe tbody tr th:only-of-type {\n",
       "        vertical-align: middle;\n",
       "    }\n",
       "\n",
       "    .dataframe tbody tr th {\n",
       "        vertical-align: top;\n",
       "    }\n",
       "\n",
       "    .dataframe thead th {\n",
       "        text-align: right;\n",
       "    }\n",
       "</style>\n",
       "<table border=\"1\" class=\"dataframe\">\n",
       "  <thead>\n",
       "    <tr style=\"text-align: right;\">\n",
       "      <th></th>\n",
       "      <th>id</th>\n",
       "      <th>nutrition_1</th>\n",
       "      <th>nutrition_2</th>\n",
       "      <th>nutrition_3</th>\n",
       "      <th>nutrition_4</th>\n",
       "      <th>nutrition_5</th>\n",
       "      <th>nutrition_6</th>\n",
       "      <th>nutrition_7</th>\n",
       "    </tr>\n",
       "  </thead>\n",
       "  <tbody>\n",
       "    <tr>\n",
       "      <th>0</th>\n",
       "      <td>137739</td>\n",
       "      <td>51.5</td>\n",
       "      <td>0.0</td>\n",
       "      <td>13.0</td>\n",
       "      <td>0.0</td>\n",
       "      <td>2.0</td>\n",
       "      <td>0.0</td>\n",
       "      <td>4.0</td>\n",
       "    </tr>\n",
       "    <tr>\n",
       "      <th>1</th>\n",
       "      <td>31490</td>\n",
       "      <td>173.4</td>\n",
       "      <td>18.0</td>\n",
       "      <td>0.0</td>\n",
       "      <td>17.0</td>\n",
       "      <td>22.0</td>\n",
       "      <td>35.0</td>\n",
       "      <td>1.0</td>\n",
       "    </tr>\n",
       "    <tr>\n",
       "      <th>2</th>\n",
       "      <td>112140</td>\n",
       "      <td>269.8</td>\n",
       "      <td>22.0</td>\n",
       "      <td>32.0</td>\n",
       "      <td>48.0</td>\n",
       "      <td>39.0</td>\n",
       "      <td>27.0</td>\n",
       "      <td>5.0</td>\n",
       "    </tr>\n",
       "    <tr>\n",
       "      <th>3</th>\n",
       "      <td>59389</td>\n",
       "      <td>368.1</td>\n",
       "      <td>17.0</td>\n",
       "      <td>10.0</td>\n",
       "      <td>2.0</td>\n",
       "      <td>14.0</td>\n",
       "      <td>8.0</td>\n",
       "      <td>20.0</td>\n",
       "    </tr>\n",
       "    <tr>\n",
       "      <th>4</th>\n",
       "      <td>44061</td>\n",
       "      <td>352.9</td>\n",
       "      <td>1.0</td>\n",
       "      <td>337.0</td>\n",
       "      <td>23.0</td>\n",
       "      <td>3.0</td>\n",
       "      <td>0.0</td>\n",
       "      <td>28.0</td>\n",
       "    </tr>\n",
       "  </tbody>\n",
       "</table>\n",
       "</div>"
      ],
      "text/plain": [
       "       id  nutrition_1  nutrition_2  nutrition_3  nutrition_4  nutrition_5  \\\n",
       "0  137739         51.5          0.0         13.0          0.0          2.0   \n",
       "1   31490        173.4         18.0          0.0         17.0         22.0   \n",
       "2  112140        269.8         22.0         32.0         48.0         39.0   \n",
       "3   59389        368.1         17.0         10.0          2.0         14.0   \n",
       "4   44061        352.9          1.0        337.0         23.0          3.0   \n",
       "\n",
       "   nutrition_6  nutrition_7  \n",
       "0          0.0          4.0  \n",
       "1         35.0          1.0  \n",
       "2         27.0          5.0  \n",
       "3          8.0         20.0  \n",
       "4          0.0         28.0  "
      ]
     },
     "execution_count": 8,
     "metadata": {},
     "output_type": "execute_result"
    }
   ],
   "source": [
    "###convert the string nutrition list column into individual float columns\n",
    "nutrition_df = recipes_df[['id','nutrition']]\n",
    "nutrition_df[['nutrition_1', 'nutrition_2','nutrition_3','nutrition_4','nutrition_5','nutrition_6','nutrition_7']] = nutrition_df['nutrition'].str.split(',', expand=True)\n",
    "nutrition_df.drop('nutrition', axis=1, inplace=True)\n",
    "\n",
    "#remove [] characters from the first and last columns\n",
    "nutrition_df['nutrition_1'] = nutrition_df['nutrition_1'].str.replace('[', '')\n",
    "nutrition_df['nutrition_7'] = nutrition_df['nutrition_7'].str.replace(']', '')\n",
    "\n",
    "#convert all columns to numeric data type\n",
    "nutrition_df[['nutrition_1', 'nutrition_2','nutrition_3','nutrition_4','nutrition_5','nutrition_6','nutrition_7']] = nutrition_df[['nutrition_1', 'nutrition_2','nutrition_3','nutrition_4','nutrition_5','nutrition_6','nutrition_7']].apply(pd.to_numeric, errors='coerce')\n",
    "nutrition_df.head()"
   ]
  },
  {
   "cell_type": "markdown",
   "id": "1618e843",
   "metadata": {},
   "source": [
    "The tags columns contains several keywords that can yield valuable information about each recipe such as the cuisine type, vegan or vegetarian"
   ]
  },
  {
   "cell_type": "code",
   "execution_count": 9,
   "id": "00c75e22",
   "metadata": {},
   "outputs": [
    {
     "data": {
      "text/html": [
       "<div>\n",
       "<style scoped>\n",
       "    .dataframe tbody tr th:only-of-type {\n",
       "        vertical-align: middle;\n",
       "    }\n",
       "\n",
       "    .dataframe tbody tr th {\n",
       "        vertical-align: top;\n",
       "    }\n",
       "\n",
       "    .dataframe thead th {\n",
       "        text-align: right;\n",
       "    }\n",
       "</style>\n",
       "<table border=\"1\" class=\"dataframe\">\n",
       "  <thead>\n",
       "    <tr style=\"text-align: right;\">\n",
       "      <th></th>\n",
       "      <th>id</th>\n",
       "      <th>tags</th>\n",
       "      <th>is_vegan</th>\n",
       "      <th>is_vegetarian</th>\n",
       "    </tr>\n",
       "  </thead>\n",
       "  <tbody>\n",
       "    <tr>\n",
       "      <th>0</th>\n",
       "      <td>137739</td>\n",
       "      <td>['60-minutes-or-less', 'time-to-make', 'course...</td>\n",
       "      <td>0</td>\n",
       "      <td>1</td>\n",
       "    </tr>\n",
       "    <tr>\n",
       "      <th>1</th>\n",
       "      <td>31490</td>\n",
       "      <td>['30-minutes-or-less', 'time-to-make', 'course...</td>\n",
       "      <td>0</td>\n",
       "      <td>0</td>\n",
       "    </tr>\n",
       "    <tr>\n",
       "      <th>2</th>\n",
       "      <td>112140</td>\n",
       "      <td>['time-to-make', 'course', 'preparation', 'mai...</td>\n",
       "      <td>0</td>\n",
       "      <td>0</td>\n",
       "    </tr>\n",
       "    <tr>\n",
       "      <th>3</th>\n",
       "      <td>59389</td>\n",
       "      <td>['60-minutes-or-less', 'time-to-make', 'course...</td>\n",
       "      <td>0</td>\n",
       "      <td>0</td>\n",
       "    </tr>\n",
       "    <tr>\n",
       "      <th>4</th>\n",
       "      <td>44061</td>\n",
       "      <td>['weeknight', 'time-to-make', 'course', 'main-...</td>\n",
       "      <td>0</td>\n",
       "      <td>1</td>\n",
       "    </tr>\n",
       "  </tbody>\n",
       "</table>\n",
       "</div>"
      ],
      "text/plain": [
       "       id                                               tags  is_vegan  \\\n",
       "0  137739  ['60-minutes-or-less', 'time-to-make', 'course...         0   \n",
       "1   31490  ['30-minutes-or-less', 'time-to-make', 'course...         0   \n",
       "2  112140  ['time-to-make', 'course', 'preparation', 'mai...         0   \n",
       "3   59389  ['60-minutes-or-less', 'time-to-make', 'course...         0   \n",
       "4   44061  ['weeknight', 'time-to-make', 'course', 'main-...         0   \n",
       "\n",
       "   is_vegetarian  \n",
       "0              1  \n",
       "1              0  \n",
       "2              0  \n",
       "3              0  \n",
       "4              1  "
      ]
     },
     "execution_count": 9,
     "metadata": {},
     "output_type": "execute_result"
    }
   ],
   "source": [
    "tags_df = recipes_df[['id','tags']]\n",
    "\n",
    "tags_df['is_vegan'] = [int(string.find('vegan') != -1)for string in tags_df['tags']]\n",
    "tags_df['is_vegetarian'] = [int(string.find('vegetarian') != -1)for string in tags_df['tags']]\n",
    "tags_df.head()"
   ]
  },
  {
   "cell_type": "markdown",
   "id": "ac2a1443",
   "metadata": {},
   "source": [
    "Note: Following cell takes 30+ mins to run"
   ]
  },
  {
   "cell_type": "code",
   "execution_count": 11,
   "id": "3ca50f62",
   "metadata": {},
   "outputs": [
    {
     "data": {
      "text/plain": [
       "array(['', 'african', 'asian', 'australian', 'cantonese', 'chinese',\n",
       "       'egyptian', 'ethiopian', 'european', 'hawaiian', 'indian',\n",
       "       'iranian', 'iraqi', 'japanese', 'jewish', 'lebanese', 'libyan',\n",
       "       'mexican', 'moroccan', 'nigerian', 'north american', 'pakistani',\n",
       "       'palestinian', 'saudi arabian', 'south african', 'south american',\n",
       "       'turkish'], dtype='<U14')"
      ]
     },
     "execution_count": 11,
     "metadata": {},
     "output_type": "execute_result"
    }
   ],
   "source": [
    "mapping_table = str.maketrans({'[': '', ']': '', \"'\": '', '-': ' '})\n",
    "nlp = spacy.load(\"en_core_web_sm\")\n",
    "cuisine_types = ['north american','south american', 'asian','european','australian', 'african']\n",
    "cuisine = []\n",
    "\n",
    "for string in tags_df['tags']:\n",
    "    string = string.translate(mapping_table)\n",
    "    doc = nlp(string)\n",
    "    norp_entries = [ent.text for ent in doc.ents if ent.label_ == 'NORP']\n",
    "    if len(norp_entries) == 0:\n",
    "        cuisine.append('')\n",
    "    elif len(norp_entries) == 1:\n",
    "        cuisine.append(norp_entries[0])\n",
    "    else:\n",
    "        el_found = False\n",
    "        for element in cuisine_types:\n",
    "            if element in norp_entries:\n",
    "                cuisine.append(element)\n",
    "                el_found = True\n",
    "                break\n",
    "        if(el_found == False):\n",
    "            cuisine.append(norp_entries[0])\n",
    "            \n",
    "np.unique(cuisine)"
   ]
  },
  {
   "cell_type": "code",
   "execution_count": 12,
   "id": "4e196ecb",
   "metadata": {},
   "outputs": [
    {
     "data": {
      "text/plain": [
       "array(['north american', '', 'asian', 'european', 'australian', 'african',\n",
       "       'south american'], dtype=object)"
      ]
     },
     "execution_count": 12,
     "metadata": {},
     "output_type": "execute_result"
    }
   ],
   "source": [
    "tags_df['cuisine'] = cuisine\n",
    "replace_values = {'cantonese': 'asian', 'chinese': 'asian', 'egyptian': 'african', 'ethiopian': 'african', 'hawaiian': 'north american', 'indian': 'asian', 'iranian': 'asian','iraqi': 'asian', 'japanese': 'asian', 'jewish': 'asian', 'lebanese': 'asian', 'libyan': 'african', 'mexican': 'north american', 'moroccan': 'african','nigerian': 'african', 'pakistani': 'asian', 'palestinian': 'asian', 'saudi arabian': 'asian', 'south african': 'african', 'turkish': 'european'}\n",
    "tags_df = tags_df.replace({'cuisine': replace_values})\n",
    "tags_df['cuisine'].unique()"
   ]
  },
  {
   "cell_type": "code",
   "execution_count": 13,
   "id": "afdcffb3",
   "metadata": {
    "scrolled": true
   },
   "outputs": [
    {
     "data": {
      "text/html": [
       "<div>\n",
       "<style scoped>\n",
       "    .dataframe tbody tr th:only-of-type {\n",
       "        vertical-align: middle;\n",
       "    }\n",
       "\n",
       "    .dataframe tbody tr th {\n",
       "        vertical-align: top;\n",
       "    }\n",
       "\n",
       "    .dataframe thead tr th {\n",
       "        text-align: left;\n",
       "    }\n",
       "\n",
       "    .dataframe thead tr:last-of-type th {\n",
       "        text-align: right;\n",
       "    }\n",
       "</style>\n",
       "<table border=\"1\" class=\"dataframe\">\n",
       "  <thead>\n",
       "    <tr>\n",
       "      <th></th>\n",
       "      <th colspan=\"8\" halign=\"left\">id</th>\n",
       "      <th colspan=\"5\" halign=\"left\">is_vegan</th>\n",
       "      <th colspan=\"8\" halign=\"left\">is_vegetarian</th>\n",
       "    </tr>\n",
       "    <tr>\n",
       "      <th></th>\n",
       "      <th>count</th>\n",
       "      <th>mean</th>\n",
       "      <th>std</th>\n",
       "      <th>min</th>\n",
       "      <th>25%</th>\n",
       "      <th>50%</th>\n",
       "      <th>75%</th>\n",
       "      <th>max</th>\n",
       "      <th>count</th>\n",
       "      <th>mean</th>\n",
       "      <th>...</th>\n",
       "      <th>75%</th>\n",
       "      <th>max</th>\n",
       "      <th>count</th>\n",
       "      <th>mean</th>\n",
       "      <th>std</th>\n",
       "      <th>min</th>\n",
       "      <th>25%</th>\n",
       "      <th>50%</th>\n",
       "      <th>75%</th>\n",
       "      <th>max</th>\n",
       "    </tr>\n",
       "    <tr>\n",
       "      <th>cuisine</th>\n",
       "      <th></th>\n",
       "      <th></th>\n",
       "      <th></th>\n",
       "      <th></th>\n",
       "      <th></th>\n",
       "      <th></th>\n",
       "      <th></th>\n",
       "      <th></th>\n",
       "      <th></th>\n",
       "      <th></th>\n",
       "      <th></th>\n",
       "      <th></th>\n",
       "      <th></th>\n",
       "      <th></th>\n",
       "      <th></th>\n",
       "      <th></th>\n",
       "      <th></th>\n",
       "      <th></th>\n",
       "      <th></th>\n",
       "      <th></th>\n",
       "      <th></th>\n",
       "    </tr>\n",
       "  </thead>\n",
       "  <tbody>\n",
       "    <tr>\n",
       "      <th></th>\n",
       "      <td>141577.0</td>\n",
       "      <td>226352.558707</td>\n",
       "      <td>136543.259940</td>\n",
       "      <td>38.0</td>\n",
       "      <td>106897.00</td>\n",
       "      <td>216186.0</td>\n",
       "      <td>333146.0</td>\n",
       "      <td>537716.0</td>\n",
       "      <td>141577.0</td>\n",
       "      <td>0.034151</td>\n",
       "      <td>...</td>\n",
       "      <td>0.0</td>\n",
       "      <td>1.0</td>\n",
       "      <td>141577.0</td>\n",
       "      <td>0.118367</td>\n",
       "      <td>0.323043</td>\n",
       "      <td>0.0</td>\n",
       "      <td>0.0</td>\n",
       "      <td>0.0</td>\n",
       "      <td>0.0</td>\n",
       "      <td>1.0</td>\n",
       "    </tr>\n",
       "    <tr>\n",
       "      <th>african</th>\n",
       "      <td>2446.0</td>\n",
       "      <td>273927.103434</td>\n",
       "      <td>141436.661426</td>\n",
       "      <td>2155.0</td>\n",
       "      <td>169376.25</td>\n",
       "      <td>263298.0</td>\n",
       "      <td>415456.5</td>\n",
       "      <td>532742.0</td>\n",
       "      <td>2446.0</td>\n",
       "      <td>0.141455</td>\n",
       "      <td>...</td>\n",
       "      <td>0.0</td>\n",
       "      <td>1.0</td>\n",
       "      <td>2446.0</td>\n",
       "      <td>0.309076</td>\n",
       "      <td>0.462207</td>\n",
       "      <td>0.0</td>\n",
       "      <td>0.0</td>\n",
       "      <td>0.0</td>\n",
       "      <td>1.0</td>\n",
       "      <td>1.0</td>\n",
       "    </tr>\n",
       "    <tr>\n",
       "      <th>asian</th>\n",
       "      <td>13297.0</td>\n",
       "      <td>224349.175227</td>\n",
       "      <td>147661.585383</td>\n",
       "      <td>39.0</td>\n",
       "      <td>92042.00</td>\n",
       "      <td>203982.0</td>\n",
       "      <td>343713.0</td>\n",
       "      <td>536973.0</td>\n",
       "      <td>13297.0</td>\n",
       "      <td>0.109874</td>\n",
       "      <td>...</td>\n",
       "      <td>0.0</td>\n",
       "      <td>1.0</td>\n",
       "      <td>13297.0</td>\n",
       "      <td>0.260435</td>\n",
       "      <td>0.438888</td>\n",
       "      <td>0.0</td>\n",
       "      <td>0.0</td>\n",
       "      <td>0.0</td>\n",
       "      <td>1.0</td>\n",
       "      <td>1.0</td>\n",
       "    </tr>\n",
       "    <tr>\n",
       "      <th>australian</th>\n",
       "      <td>2377.0</td>\n",
       "      <td>246203.389567</td>\n",
       "      <td>130642.497106</td>\n",
       "      <td>651.0</td>\n",
       "      <td>141734.00</td>\n",
       "      <td>237207.0</td>\n",
       "      <td>352085.0</td>\n",
       "      <td>536728.0</td>\n",
       "      <td>2377.0</td>\n",
       "      <td>0.037021</td>\n",
       "      <td>...</td>\n",
       "      <td>0.0</td>\n",
       "      <td>1.0</td>\n",
       "      <td>2377.0</td>\n",
       "      <td>0.231384</td>\n",
       "      <td>0.421806</td>\n",
       "      <td>0.0</td>\n",
       "      <td>0.0</td>\n",
       "      <td>0.0</td>\n",
       "      <td>0.0</td>\n",
       "      <td>1.0</td>\n",
       "    </tr>\n",
       "    <tr>\n",
       "      <th>european</th>\n",
       "      <td>21600.0</td>\n",
       "      <td>226234.454630</td>\n",
       "      <td>147000.072601</td>\n",
       "      <td>49.0</td>\n",
       "      <td>101002.25</td>\n",
       "      <td>204678.0</td>\n",
       "      <td>354365.0</td>\n",
       "      <td>537543.0</td>\n",
       "      <td>21600.0</td>\n",
       "      <td>0.043750</td>\n",
       "      <td>...</td>\n",
       "      <td>0.0</td>\n",
       "      <td>1.0</td>\n",
       "      <td>21600.0</td>\n",
       "      <td>0.235556</td>\n",
       "      <td>0.424355</td>\n",
       "      <td>0.0</td>\n",
       "      <td>0.0</td>\n",
       "      <td>0.0</td>\n",
       "      <td>0.0</td>\n",
       "      <td>1.0</td>\n",
       "    </tr>\n",
       "    <tr>\n",
       "      <th>north american</th>\n",
       "      <td>49287.0</td>\n",
       "      <td>201775.280114</td>\n",
       "      <td>147645.216842</td>\n",
       "      <td>41.0</td>\n",
       "      <td>67797.50</td>\n",
       "      <td>173649.0</td>\n",
       "      <td>317071.5</td>\n",
       "      <td>536834.0</td>\n",
       "      <td>49287.0</td>\n",
       "      <td>0.045570</td>\n",
       "      <td>...</td>\n",
       "      <td>0.0</td>\n",
       "      <td>1.0</td>\n",
       "      <td>49287.0</td>\n",
       "      <td>0.178850</td>\n",
       "      <td>0.383231</td>\n",
       "      <td>0.0</td>\n",
       "      <td>0.0</td>\n",
       "      <td>0.0</td>\n",
       "      <td>0.0</td>\n",
       "      <td>1.0</td>\n",
       "    </tr>\n",
       "    <tr>\n",
       "      <th>south american</th>\n",
       "      <td>1053.0</td>\n",
       "      <td>294891.125356</td>\n",
       "      <td>143732.194572</td>\n",
       "      <td>82.0</td>\n",
       "      <td>170591.00</td>\n",
       "      <td>307046.0</td>\n",
       "      <td>449529.0</td>\n",
       "      <td>536603.0</td>\n",
       "      <td>1053.0</td>\n",
       "      <td>0.086420</td>\n",
       "      <td>...</td>\n",
       "      <td>0.0</td>\n",
       "      <td>1.0</td>\n",
       "      <td>1053.0</td>\n",
       "      <td>0.209877</td>\n",
       "      <td>0.407414</td>\n",
       "      <td>0.0</td>\n",
       "      <td>0.0</td>\n",
       "      <td>0.0</td>\n",
       "      <td>0.0</td>\n",
       "      <td>1.0</td>\n",
       "    </tr>\n",
       "  </tbody>\n",
       "</table>\n",
       "<p>7 rows × 24 columns</p>\n",
       "</div>"
      ],
      "text/plain": [
       "                      id                                                   \\\n",
       "                   count           mean            std     min        25%   \n",
       "cuisine                                                                     \n",
       "                141577.0  226352.558707  136543.259940    38.0  106897.00   \n",
       "african           2446.0  273927.103434  141436.661426  2155.0  169376.25   \n",
       "asian            13297.0  224349.175227  147661.585383    39.0   92042.00   \n",
       "australian        2377.0  246203.389567  130642.497106   651.0  141734.00   \n",
       "european         21600.0  226234.454630  147000.072601    49.0  101002.25   \n",
       "north american   49287.0  201775.280114  147645.216842    41.0   67797.50   \n",
       "south american    1053.0  294891.125356  143732.194572    82.0  170591.00   \n",
       "\n",
       "                                              is_vegan            ...       \\\n",
       "                     50%       75%       max     count      mean  ...  75%   \n",
       "cuisine                                                           ...        \n",
       "                216186.0  333146.0  537716.0  141577.0  0.034151  ...  0.0   \n",
       "african         263298.0  415456.5  532742.0    2446.0  0.141455  ...  0.0   \n",
       "asian           203982.0  343713.0  536973.0   13297.0  0.109874  ...  0.0   \n",
       "australian      237207.0  352085.0  536728.0    2377.0  0.037021  ...  0.0   \n",
       "european        204678.0  354365.0  537543.0   21600.0  0.043750  ...  0.0   \n",
       "north american  173649.0  317071.5  536834.0   49287.0  0.045570  ...  0.0   \n",
       "south american  307046.0  449529.0  536603.0    1053.0  0.086420  ...  0.0   \n",
       "\n",
       "                    is_vegetarian                                               \n",
       "                max         count      mean       std  min  25%  50%  75%  max  \n",
       "cuisine                                                                         \n",
       "                1.0      141577.0  0.118367  0.323043  0.0  0.0  0.0  0.0  1.0  \n",
       "african         1.0        2446.0  0.309076  0.462207  0.0  0.0  0.0  1.0  1.0  \n",
       "asian           1.0       13297.0  0.260435  0.438888  0.0  0.0  0.0  1.0  1.0  \n",
       "australian      1.0        2377.0  0.231384  0.421806  0.0  0.0  0.0  0.0  1.0  \n",
       "european        1.0       21600.0  0.235556  0.424355  0.0  0.0  0.0  0.0  1.0  \n",
       "north american  1.0       49287.0  0.178850  0.383231  0.0  0.0  0.0  0.0  1.0  \n",
       "south american  1.0        1053.0  0.209877  0.407414  0.0  0.0  0.0  0.0  1.0  \n",
       "\n",
       "[7 rows x 24 columns]"
      ]
     },
     "execution_count": 13,
     "metadata": {},
     "output_type": "execute_result"
    }
   ],
   "source": [
    "tags_df.groupby('cuisine').describe()"
   ]
  },
  {
   "cell_type": "markdown",
   "id": "e571773d",
   "metadata": {},
   "source": [
    "Additional categorical columns can be created from the numerical minutes, n_steps, and n_ingredients that classify the numerical values into short, medium long labels based on set limits."
   ]
  },
  {
   "cell_type": "code",
   "execution_count": 14,
   "id": "cc7902ab",
   "metadata": {},
   "outputs": [
    {
     "data": {
      "text/html": [
       "<div>\n",
       "<style scoped>\n",
       "    .dataframe tbody tr th:only-of-type {\n",
       "        vertical-align: middle;\n",
       "    }\n",
       "\n",
       "    .dataframe tbody tr th {\n",
       "        vertical-align: top;\n",
       "    }\n",
       "\n",
       "    .dataframe thead th {\n",
       "        text-align: right;\n",
       "    }\n",
       "</style>\n",
       "<table border=\"1\" class=\"dataframe\">\n",
       "  <thead>\n",
       "    <tr style=\"text-align: right;\">\n",
       "      <th></th>\n",
       "      <th>id</th>\n",
       "      <th>name</th>\n",
       "      <th>minutes</th>\n",
       "      <th>n_steps</th>\n",
       "      <th>n_ingredients</th>\n",
       "      <th>Prep Time</th>\n",
       "      <th>Ingredient List</th>\n",
       "      <th>Recipe Process</th>\n",
       "    </tr>\n",
       "  </thead>\n",
       "  <tbody>\n",
       "    <tr>\n",
       "      <th>0</th>\n",
       "      <td>137739</td>\n",
       "      <td>arriba   baked winter squash mexican style</td>\n",
       "      <td>55</td>\n",
       "      <td>11</td>\n",
       "      <td>7</td>\n",
       "      <td>Short</td>\n",
       "      <td>Short</td>\n",
       "      <td>Short</td>\n",
       "    </tr>\n",
       "    <tr>\n",
       "      <th>1</th>\n",
       "      <td>31490</td>\n",
       "      <td>a bit different  breakfast pizza</td>\n",
       "      <td>30</td>\n",
       "      <td>9</td>\n",
       "      <td>6</td>\n",
       "      <td>Short</td>\n",
       "      <td>Short</td>\n",
       "      <td>Short</td>\n",
       "    </tr>\n",
       "    <tr>\n",
       "      <th>2</th>\n",
       "      <td>112140</td>\n",
       "      <td>all in the kitchen  chili</td>\n",
       "      <td>130</td>\n",
       "      <td>6</td>\n",
       "      <td>13</td>\n",
       "      <td>Long</td>\n",
       "      <td>Long</td>\n",
       "      <td>Long</td>\n",
       "    </tr>\n",
       "    <tr>\n",
       "      <th>3</th>\n",
       "      <td>59389</td>\n",
       "      <td>alouette  potatoes</td>\n",
       "      <td>45</td>\n",
       "      <td>11</td>\n",
       "      <td>11</td>\n",
       "      <td>Short</td>\n",
       "      <td>Short</td>\n",
       "      <td>Short</td>\n",
       "    </tr>\n",
       "    <tr>\n",
       "      <th>4</th>\n",
       "      <td>44061</td>\n",
       "      <td>amish  tomato ketchup  for canning</td>\n",
       "      <td>190</td>\n",
       "      <td>5</td>\n",
       "      <td>8</td>\n",
       "      <td>Long</td>\n",
       "      <td>Long</td>\n",
       "      <td>Long</td>\n",
       "    </tr>\n",
       "  </tbody>\n",
       "</table>\n",
       "</div>"
      ],
      "text/plain": [
       "       id                                        name  minutes  n_steps  \\\n",
       "0  137739  arriba   baked winter squash mexican style       55       11   \n",
       "1   31490            a bit different  breakfast pizza       30        9   \n",
       "2  112140                   all in the kitchen  chili      130        6   \n",
       "3   59389                          alouette  potatoes       45       11   \n",
       "4   44061          amish  tomato ketchup  for canning      190        5   \n",
       "\n",
       "   n_ingredients Prep Time Ingredient List Recipe Process  \n",
       "0              7     Short           Short          Short  \n",
       "1              6     Short           Short          Short  \n",
       "2             13      Long            Long           Long  \n",
       "3             11     Short           Short          Short  \n",
       "4              8      Long            Long           Long  "
      ]
     },
     "execution_count": 14,
     "metadata": {},
     "output_type": "execute_result"
    }
   ],
   "source": [
    "recipe_desc_df = recipes_df[['id','name','minutes', 'n_steps','n_ingredients']]\n",
    "\n",
    "min_conditions = [recipe_desc_df['minutes'] <= 60, (recipe_desc_df['minutes'] > 60) & (recipe_desc_df['minutes'] <= 120), recipe_desc_df['minutes'] > 120]\n",
    "values = ['Short','Medium','Long']\n",
    "recipe_desc_df['Prep Time'] = np.select(min_conditions,values)\n",
    "\n",
    "ing_conditions = [recipe_desc_df['n_ingredients'] <= 8, (recipe_desc_df['n_ingredients'] > 8) & (recipe_desc_df['n_ingredients'] <= 16), recipe_desc_df['n_ingredients'] > 16]\n",
    "values = ['Short','Medium','Long']\n",
    "recipe_desc_df['Ingredient List'] = np.select(min_conditions,values)\n",
    "\n",
    "ing_conditions = [recipe_desc_df['n_steps'] <= 10, (recipe_desc_df['n_steps'] > 10) & (recipe_desc_df['n_steps'] <= 20), recipe_desc_df['n_steps'] > 20]\n",
    "values = ['Short','Medium','Long']\n",
    "recipe_desc_df['Recipe Process'] = np.select(min_conditions,values)\n",
    "\n",
    "recipe_desc_df.head()"
   ]
  },
  {
   "cell_type": "code",
   "execution_count": 17,
   "id": "2e25e797",
   "metadata": {},
   "outputs": [
    {
     "data": {
      "text/html": [
       "<div>\n",
       "<style scoped>\n",
       "    .dataframe tbody tr th:only-of-type {\n",
       "        vertical-align: middle;\n",
       "    }\n",
       "\n",
       "    .dataframe tbody tr th {\n",
       "        vertical-align: top;\n",
       "    }\n",
       "\n",
       "    .dataframe thead th {\n",
       "        text-align: right;\n",
       "    }\n",
       "</style>\n",
       "<table border=\"1\" class=\"dataframe\">\n",
       "  <thead>\n",
       "    <tr style=\"text-align: right;\">\n",
       "      <th></th>\n",
       "      <th>id</th>\n",
       "      <th>name</th>\n",
       "      <th>minutes</th>\n",
       "      <th>n_steps</th>\n",
       "      <th>n_ingredients</th>\n",
       "      <th>Prep Time</th>\n",
       "      <th>Ingredient List</th>\n",
       "      <th>Recipe Process</th>\n",
       "      <th>is_vegan</th>\n",
       "      <th>is_vegetarian</th>\n",
       "      <th>cuisine</th>\n",
       "      <th>nutrition_1</th>\n",
       "      <th>nutrition_2</th>\n",
       "      <th>nutrition_3</th>\n",
       "      <th>nutrition_4</th>\n",
       "      <th>nutrition_5</th>\n",
       "      <th>nutrition_6</th>\n",
       "      <th>nutrition_7</th>\n",
       "    </tr>\n",
       "  </thead>\n",
       "  <tbody>\n",
       "    <tr>\n",
       "      <th>0</th>\n",
       "      <td>137739</td>\n",
       "      <td>arriba   baked winter squash mexican style</td>\n",
       "      <td>55</td>\n",
       "      <td>11</td>\n",
       "      <td>7</td>\n",
       "      <td>Short</td>\n",
       "      <td>Short</td>\n",
       "      <td>Short</td>\n",
       "      <td>0</td>\n",
       "      <td>1</td>\n",
       "      <td>north american</td>\n",
       "      <td>51.5</td>\n",
       "      <td>0.0</td>\n",
       "      <td>13.0</td>\n",
       "      <td>0.0</td>\n",
       "      <td>2.0</td>\n",
       "      <td>0.0</td>\n",
       "      <td>4.0</td>\n",
       "    </tr>\n",
       "    <tr>\n",
       "      <th>1</th>\n",
       "      <td>31490</td>\n",
       "      <td>a bit different  breakfast pizza</td>\n",
       "      <td>30</td>\n",
       "      <td>9</td>\n",
       "      <td>6</td>\n",
       "      <td>Short</td>\n",
       "      <td>Short</td>\n",
       "      <td>Short</td>\n",
       "      <td>0</td>\n",
       "      <td>0</td>\n",
       "      <td>north american</td>\n",
       "      <td>173.4</td>\n",
       "      <td>18.0</td>\n",
       "      <td>0.0</td>\n",
       "      <td>17.0</td>\n",
       "      <td>22.0</td>\n",
       "      <td>35.0</td>\n",
       "      <td>1.0</td>\n",
       "    </tr>\n",
       "    <tr>\n",
       "      <th>2</th>\n",
       "      <td>112140</td>\n",
       "      <td>all in the kitchen  chili</td>\n",
       "      <td>130</td>\n",
       "      <td>6</td>\n",
       "      <td>13</td>\n",
       "      <td>Long</td>\n",
       "      <td>Long</td>\n",
       "      <td>Long</td>\n",
       "      <td>0</td>\n",
       "      <td>0</td>\n",
       "      <td></td>\n",
       "      <td>269.8</td>\n",
       "      <td>22.0</td>\n",
       "      <td>32.0</td>\n",
       "      <td>48.0</td>\n",
       "      <td>39.0</td>\n",
       "      <td>27.0</td>\n",
       "      <td>5.0</td>\n",
       "    </tr>\n",
       "    <tr>\n",
       "      <th>3</th>\n",
       "      <td>59389</td>\n",
       "      <td>alouette  potatoes</td>\n",
       "      <td>45</td>\n",
       "      <td>11</td>\n",
       "      <td>11</td>\n",
       "      <td>Short</td>\n",
       "      <td>Short</td>\n",
       "      <td>Short</td>\n",
       "      <td>0</td>\n",
       "      <td>0</td>\n",
       "      <td></td>\n",
       "      <td>368.1</td>\n",
       "      <td>17.0</td>\n",
       "      <td>10.0</td>\n",
       "      <td>2.0</td>\n",
       "      <td>14.0</td>\n",
       "      <td>8.0</td>\n",
       "      <td>20.0</td>\n",
       "    </tr>\n",
       "    <tr>\n",
       "      <th>4</th>\n",
       "      <td>44061</td>\n",
       "      <td>amish  tomato ketchup  for canning</td>\n",
       "      <td>190</td>\n",
       "      <td>5</td>\n",
       "      <td>8</td>\n",
       "      <td>Long</td>\n",
       "      <td>Long</td>\n",
       "      <td>Long</td>\n",
       "      <td>0</td>\n",
       "      <td>1</td>\n",
       "      <td>north american</td>\n",
       "      <td>352.9</td>\n",
       "      <td>1.0</td>\n",
       "      <td>337.0</td>\n",
       "      <td>23.0</td>\n",
       "      <td>3.0</td>\n",
       "      <td>0.0</td>\n",
       "      <td>28.0</td>\n",
       "    </tr>\n",
       "  </tbody>\n",
       "</table>\n",
       "</div>"
      ],
      "text/plain": [
       "       id                                        name  minutes  n_steps  \\\n",
       "0  137739  arriba   baked winter squash mexican style       55       11   \n",
       "1   31490            a bit different  breakfast pizza       30        9   \n",
       "2  112140                   all in the kitchen  chili      130        6   \n",
       "3   59389                          alouette  potatoes       45       11   \n",
       "4   44061          amish  tomato ketchup  for canning      190        5   \n",
       "\n",
       "   n_ingredients Prep Time Ingredient List Recipe Process  is_vegan  \\\n",
       "0              7     Short           Short          Short         0   \n",
       "1              6     Short           Short          Short         0   \n",
       "2             13      Long            Long           Long         0   \n",
       "3             11     Short           Short          Short         0   \n",
       "4              8      Long            Long           Long         0   \n",
       "\n",
       "   is_vegetarian         cuisine  nutrition_1  nutrition_2  nutrition_3  \\\n",
       "0              1  north american         51.5          0.0         13.0   \n",
       "1              0  north american        173.4         18.0          0.0   \n",
       "2              0                        269.8         22.0         32.0   \n",
       "3              0                        368.1         17.0         10.0   \n",
       "4              1  north american        352.9          1.0        337.0   \n",
       "\n",
       "   nutrition_4  nutrition_5  nutrition_6  nutrition_7  \n",
       "0          0.0          2.0          0.0          4.0  \n",
       "1         17.0         22.0         35.0          1.0  \n",
       "2         48.0         39.0         27.0          5.0  \n",
       "3          2.0         14.0          8.0         20.0  \n",
       "4         23.0          3.0          0.0         28.0  "
      ]
     },
     "execution_count": 17,
     "metadata": {},
     "output_type": "execute_result"
    }
   ],
   "source": [
    "#combine all individual dfs created into one\n",
    "tags_df.drop('tags',inplace=True, axis=1)\n",
    "df = recipe_desc_df.merge(tags_df,left_on='id',right_on='id', how='left')\n",
    "df = df.merge(nutrition_df, left_on='id',right_on='id',how='left')\n",
    "df.head()"
   ]
  },
  {
   "cell_type": "code",
   "execution_count": 18,
   "id": "0d4d39a5",
   "metadata": {},
   "outputs": [
    {
     "name": "stdout",
     "output_type": "stream",
     "text": [
      "A file already exists with this name.\n",
      "\n",
      "Do you want to overwrite? (Y/N)y\n",
      "Writing file.  \"../data\\recipe_data_cleaned.csv\"\n"
     ]
    }
   ],
   "source": [
    "#save the cleaned dataframe as csv for the next steps\n",
    "datapath = '../data'\n",
    "save_file(df, 'recipe_data_cleaned.csv', datapath)"
   ]
  },
  {
   "cell_type": "markdown",
   "id": "54a28c19",
   "metadata": {},
   "source": [
    "### Data Wrangling for the Users dataset"
   ]
  },
  {
   "cell_type": "code",
   "execution_count": 28,
   "id": "b04420af",
   "metadata": {},
   "outputs": [
    {
     "data": {
      "text/html": [
       "<div>\n",
       "<style scoped>\n",
       "    .dataframe tbody tr th:only-of-type {\n",
       "        vertical-align: middle;\n",
       "    }\n",
       "\n",
       "    .dataframe tbody tr th {\n",
       "        vertical-align: top;\n",
       "    }\n",
       "\n",
       "    .dataframe thead th {\n",
       "        text-align: right;\n",
       "    }\n",
       "</style>\n",
       "<table border=\"1\" class=\"dataframe\">\n",
       "  <thead>\n",
       "    <tr style=\"text-align: right;\">\n",
       "      <th></th>\n",
       "      <th>user_id</th>\n",
       "      <th>recipe_id</th>\n",
       "      <th>date</th>\n",
       "      <th>rating</th>\n",
       "      <th>review</th>\n",
       "    </tr>\n",
       "  </thead>\n",
       "  <tbody>\n",
       "    <tr>\n",
       "      <th>0</th>\n",
       "      <td>38094</td>\n",
       "      <td>40893</td>\n",
       "      <td>2003-02-17</td>\n",
       "      <td>4</td>\n",
       "      <td>Great with a salad. Cooked on top of stove for...</td>\n",
       "    </tr>\n",
       "    <tr>\n",
       "      <th>1</th>\n",
       "      <td>1293707</td>\n",
       "      <td>40893</td>\n",
       "      <td>2011-12-21</td>\n",
       "      <td>5</td>\n",
       "      <td>So simple, so delicious! Great for chilly fall...</td>\n",
       "    </tr>\n",
       "    <tr>\n",
       "      <th>2</th>\n",
       "      <td>8937</td>\n",
       "      <td>44394</td>\n",
       "      <td>2002-12-01</td>\n",
       "      <td>4</td>\n",
       "      <td>This worked very well and is EASY.  I used not...</td>\n",
       "    </tr>\n",
       "    <tr>\n",
       "      <th>3</th>\n",
       "      <td>126440</td>\n",
       "      <td>85009</td>\n",
       "      <td>2010-02-27</td>\n",
       "      <td>5</td>\n",
       "      <td>I made the Mexican topping and took it to bunk...</td>\n",
       "    </tr>\n",
       "    <tr>\n",
       "      <th>4</th>\n",
       "      <td>57222</td>\n",
       "      <td>85009</td>\n",
       "      <td>2011-10-01</td>\n",
       "      <td>5</td>\n",
       "      <td>Made the cheddar bacon topping, adding a sprin...</td>\n",
       "    </tr>\n",
       "  </tbody>\n",
       "</table>\n",
       "</div>"
      ],
      "text/plain": [
       "   user_id  recipe_id        date  rating  \\\n",
       "0    38094      40893  2003-02-17       4   \n",
       "1  1293707      40893  2011-12-21       5   \n",
       "2     8937      44394  2002-12-01       4   \n",
       "3   126440      85009  2010-02-27       5   \n",
       "4    57222      85009  2011-10-01       5   \n",
       "\n",
       "                                              review  \n",
       "0  Great with a salad. Cooked on top of stove for...  \n",
       "1  So simple, so delicious! Great for chilly fall...  \n",
       "2  This worked very well and is EASY.  I used not...  \n",
       "3  I made the Mexican topping and took it to bunk...  \n",
       "4  Made the cheddar bacon topping, adding a sprin...  "
      ]
     },
     "execution_count": 28,
     "metadata": {},
     "output_type": "execute_result"
    }
   ],
   "source": [
    "users_df.head()"
   ]
  },
  {
   "cell_type": "code",
   "execution_count": 19,
   "id": "4ffa7f26",
   "metadata": {},
   "outputs": [
    {
     "data": {
      "text/plain": [
       "Index(['user_id', 'recipe_id', 'date', 'rating', 'review'], dtype='object')"
      ]
     },
     "execution_count": 19,
     "metadata": {},
     "output_type": "execute_result"
    }
   ],
   "source": [
    "users_df.columns"
   ]
  },
  {
   "cell_type": "code",
   "execution_count": 20,
   "id": "f9e3aa99",
   "metadata": {},
   "outputs": [
    {
     "data": {
      "text/plain": [
       "user_id        0\n",
       "recipe_id      0\n",
       "date           0\n",
       "rating         0\n",
       "review       169\n",
       "dtype: int64"
      ]
     },
     "execution_count": 20,
     "metadata": {},
     "output_type": "execute_result"
    }
   ],
   "source": [
    "users_df.isnull().sum()"
   ]
  },
  {
   "cell_type": "code",
   "execution_count": 21,
   "id": "a4406c1f",
   "metadata": {},
   "outputs": [
    {
     "data": {
      "text/plain": [
       "user_id       int64\n",
       "recipe_id     int64\n",
       "date         object\n",
       "rating        int64\n",
       "review       object\n",
       "dtype: object"
      ]
     },
     "execution_count": 21,
     "metadata": {},
     "output_type": "execute_result"
    }
   ],
   "source": [
    "users_df.dtypes"
   ]
  },
  {
   "cell_type": "markdown",
   "id": "fcaf0838",
   "metadata": {},
   "source": [
    "The users dataset is already polished as there are no missing values in all important columns. The review column can be dropped as there is no relevant information that could be extracted from it."
   ]
  },
  {
   "cell_type": "code",
   "execution_count": 22,
   "id": "1dfc82a6",
   "metadata": {},
   "outputs": [],
   "source": [
    "users_df.drop('review', inplace=True,axis=1)"
   ]
  },
  {
   "cell_type": "code",
   "execution_count": 23,
   "id": "08cf148b",
   "metadata": {},
   "outputs": [
    {
     "name": "stdout",
     "output_type": "stream",
     "text": [
      "A file already exists with this name.\n",
      "\n",
      "Do you want to overwrite? (Y/N)y\n",
      "Writing file.  \"../data\\users_data_cleaned.csv\"\n"
     ]
    }
   ],
   "source": [
    "#save the cleaned dataframe as csv for the next steps\n",
    "datapath = '../data'\n",
    "save_file(users_df, 'users_data_cleaned.csv', datapath)"
   ]
  },
  {
   "cell_type": "markdown",
   "id": "2339fdbc",
   "metadata": {},
   "source": [
    "## Exploratory Data Analysis"
   ]
  },
  {
   "cell_type": "code",
   "execution_count": 42,
   "id": "351fdb4c",
   "metadata": {},
   "outputs": [
    {
     "data": {
      "image/png": "[encoded data removed]",
      "text/plain": [
       "<Figure size 640x480 with 1 Axes>"
      ]
     },
     "metadata": {},
     "output_type": "display_data"
    }
   ],
   "source": [
    "rating_counts = users_df['rating'].value_counts()\n",
    "rating_percentages = pd.Series([(x / users_df.shape[0]) * 100.00 for x in rating_counts])\n",
    "\n",
    "# #Construct a pie chart of the rating distributions\n",
    "fig, ax = plt.subplots()\n",
    "labels = ['5','4','0', '3','2','1']\n",
    "ax.pie(rating_percentages, labels=labels, autopct='%.1f%%',wedgeprops={'linewidth': 3.0, 'edgecolor': 'white'},\n",
    "       textprops={'size': 'x-large'})\n",
    "ax.set_title('Ratings Distribution',fontsize=18)\n",
    "plt.tight_layout()"
   ]
  },
  {
   "cell_type": "code",
   "execution_count": 53,
   "id": "59961eb7",
   "metadata": {},
   "outputs": [
    {
     "name": "stdout",
     "output_type": "stream",
     "text": [
      "       n_steps bins\n",
      "1-10         148914\n",
      "11-20         70699\n",
      "21-30          9858\n",
      "30+            2165\n"
     ]
    },
    {
     "data": {
      "text/plain": [
       "Text(0.5, 1.0, 'n_steps Feature Distribution')"
      ]
     },
     "execution_count": 53,
     "metadata": {},
     "output_type": "execute_result"
    },
    {
     "data": {
      "image/png": "[encoded data removed]",
      "text/plain": [
       "<Figure size 640x480 with 1 Axes>"
      ]
     },
     "metadata": {},
     "output_type": "display_data"
    }
   ],
   "source": [
    "bin_range = ['1-10','11-20','21-30', '30+']\n",
    "bins = pd.cut(df['n_steps'], [0,10,20,30,np.inf],right=True, labels=bin_range)\n",
    "\n",
    "plot_df = pd.DataFrame({'n_steps bins': bins.value_counts(sort=False)}, index=bin_range)\n",
    "print(plot_df)\n",
    "\n",
    "#plot a bart chart of the binned data\n",
    "plot_df.plot.bar(rot=0)\n",
    "ax = plt.gca()\n",
    "plt.yscale('log')\n",
    "plt.legend(['n_steps bin count'])\n",
    "plt.xlabel('Number of Steps')\n",
    "plt.ylabel('log of Observations')\n",
    "plt.title('n_steps Feature Distribution')"
   ]
  },
  {
   "cell_type": "code",
   "execution_count": 54,
   "id": "06eeb446",
   "metadata": {},
   "outputs": [
    {
     "name": "stdout",
     "output_type": "stream",
     "text": [
      "      n_ingredient bins\n",
      "1-8              111790\n",
      "9-16             111371\n",
      "16+                8476\n"
     ]
    },
    {
     "data": {
      "text/plain": [
       "Text(0.5, 1.0, 'n_ingredient Feature Distribution')"
      ]
     },
     "execution_count": 54,
     "metadata": {},
     "output_type": "execute_result"
    },
    {
     "data": {
      "image/png": "[encoded data removed]",
      "text/plain": [
       "<Figure size 640x480 with 1 Axes>"
      ]
     },
     "metadata": {},
     "output_type": "display_data"
    }
   ],
   "source": [
    "bin_range = ['1-8','9-16','16+']\n",
    "bins = pd.cut(df['n_ingredients'], [0,8,16,np.inf],right=True, labels=bin_range)\n",
    "\n",
    "plot_df = pd.DataFrame({'n_ingredient bins': bins.value_counts(sort=False)}, index=bin_range)\n",
    "print(plot_df)\n",
    "\n",
    "#plot a bart chart of the binned data\n",
    "plot_df.plot.bar(rot=0)\n",
    "ax = plt.gca()\n",
    "plt.yscale('log')\n",
    "plt.legend(['n_ingredients bin count'])\n",
    "plt.xlabel('Number of Ingredients')\n",
    "plt.ylabel('log of Observations')\n",
    "plt.title('n_ingredient Feature Distribution')"
   ]
  },
  {
   "cell_type": "code",
   "execution_count": 56,
   "id": "e0e313a3",
   "metadata": {},
   "outputs": [
    {
     "name": "stdout",
     "output_type": "stream",
     "text": [
      "        minutes bins\n",
      "0-30           97959\n",
      "31-60          70077\n",
      "61-120         36683\n",
      "120+           25824\n"
     ]
    },
    {
     "data": {
      "text/plain": [
       "Text(0.5, 1.0, 'minutes Feature Distribution')"
      ]
     },
     "execution_count": 56,
     "metadata": {},
     "output_type": "execute_result"
    },
    {
     "data": {
      "image/png": "[encoded data removed]",
      "text/plain": [
       "<Figure size 640x480 with 1 Axes>"
      ]
     },
     "metadata": {},
     "output_type": "display_data"
    }
   ],
   "source": [
    "bin_range = ['0-30','31-60','61-120','120+']\n",
    "bins = pd.cut(df['minutes'], [0,30,60,120,np.inf],right=True, labels=bin_range)\n",
    "\n",
    "plot_df = pd.DataFrame({'minutes bins': bins.value_counts(sort=False)}, index=bin_range)\n",
    "print(plot_df)\n",
    "\n",
    "#plot a bart chart of the binned data\n",
    "plot_df.plot.bar(rot=0)\n",
    "ax = plt.gca()\n",
    "plt.yscale('log')\n",
    "plt.legend(['minutes bin count'])\n",
    "plt.xlabel('Prep time in minutes')\n",
    "plt.ylabel('log of Observations')\n",
    "plt.title('minutes Feature Distribution')"
   ]
  },
  {
   "cell_type": "code",
   "execution_count": 64,
   "id": "863d095a",
   "metadata": {},
   "outputs": [
    {
     "data": {
      "text/plain": [
       "Text(0.5, 1.0, 'Cuisine Feature Distribution')"
      ]
     },
     "execution_count": 64,
     "metadata": {},
     "output_type": "execute_result"
    },
    {
     "data": {
      "image/png": "[encoded data removed]",
      "text/plain": [
       "<Figure size 640x480 with 1 Axes>"
      ]
     },
     "metadata": {},
     "output_type": "display_data"
    }
   ],
   "source": [
    "sns.countplot(data=df[-(df.cuisine == '')], x='cuisine')\n",
    "plt.xlabel('Type of Cuisine')\n",
    "plt.ylabel('Number of Observations')\n",
    "plt.title('Cuisine Feature Distribution')"
   ]
  }
 ],
 "metadata": {
  "kernelspec": {
   "display_name": "Python 3 (ipykernel)",
   "language": "python",
   "name": "python3"
  },
  "language_info": {
   "codemirror_mode": {
    "name": "ipython",
    "version": 3
   },
   "file_extension": ".py",
   "mimetype": "text/x-python",
   "name": "python",
   "nbconvert_exporter": "python",
   "pygments_lexer": "ipython3",
   "version": "3.9.7"
  }
 },
 "nbformat": 4,
 "nbformat_minor": 5
}
