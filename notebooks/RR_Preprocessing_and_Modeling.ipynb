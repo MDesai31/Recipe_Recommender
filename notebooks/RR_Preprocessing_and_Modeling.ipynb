{
 "cells": [
  {
   "cell_type": "markdown",
   "id": "37c9be91",
   "metadata": {},
   "source": [
    "# Recipe Recommender System - Preprocessing & Modeling"
   ]
  },
  {
   "cell_type": "markdown",
   "id": "1eec356b",
   "metadata": {},
   "source": [
    "## Capstone Project Three: Springboard Data Science Career Track \n",
    "\n",
    "### Notebook by Manthan Desai"
   ]
  },
  {
   "cell_type": "markdown",
   "id": "363cd7b1",
   "metadata": {},
   "source": [
    "## Introduction:"
   ]
  },
  {
   "cell_type": "markdown",
   "id": "080ead9f",
   "metadata": {},
   "source": [
    "## 1. Problem Statement:"
   ]
  },
  {
   "cell_type": "markdown",
   "id": "0b74c7a8",
   "metadata": {},
   "source": [
    "Develop a robust recipe recommender system leveraging a comprehensive dataset of recipes and a corresponding dataset of user reviews. The goal is to enhance the culinary experience for users by creating a personalized recommendation engine that suggests recipes based on individual preferences and past review history. Addressing challenges such as data integration, user profiling, and algorithmic efficiency, the system should provide accurate and diverse recommendations while accommodating users with varying dietary preferences and cultural tastes. "
   ]
  },
  {
   "cell_type": "markdown",
   "id": "60d6a08f",
   "metadata": {},
   "source": [
    "## 2. The Data:"
   ]
  },
  {
   "cell_type": "markdown",
   "id": "47be69bf",
   "metadata": {},
   "source": [
    "The datasets are acquired from Kaggle.com\n",
    "(https://www.kaggle.com/datasets/shuyangli94/food-com-recipes-and-user-interactions). \n",
    "\n",
    "Recipe Dataset:\n",
    "\n",
    " - name - Recipe name\n",
    " - id - Recipe ID\n",
    " - minutes - Recipe prep time in minutes\n",
    " - contributter_id - User ID\n",
    " - submitted - Date of recipe submission\n",
    " - tags - List of keywords associated with the recipe\n",
    " - Nutrition - List of values corresponding to different nutritional elements \n",
    " - n_steps - Number of steps\n",
    " - steps - List of the recipe steps\n",
    " - description - Recipe description\n",
    " - ingredients - Recipe ingredients\n",
    " - n_ingredients - number of ingredients\n",
    " \n",
    "Users dataset:\n",
    "\n",
    " - user_id - Unique user ID\n",
    " - recipe_id - Recipe ID\n",
    " - date - Date of review submission\n",
    " - rating - Numeric rating between 0-5\n",
    " - review - written review of the users"
   ]
  },
  {
   "cell_type": "markdown",
   "id": "19fcf7e7",
   "metadata": {},
   "source": [
    "## 3. Library Imports and Data Collection"
   ]
  },
  {
   "cell_type": "code",
   "execution_count": 1,
   "id": "c1f12f69",
   "metadata": {},
   "outputs": [],
   "source": [
    "import pandas as pd\n",
    "import numpy as np\n",
    "import matplotlib.pyplot as plt\n",
    "import seaborn as sns\n",
    "import random\n",
    "from sklearn.cluster import KMeans\n",
    "from sklearn.metrics.pairwise import cosine_similarity\n",
    "\n",
    "#ignore warning messages to ensure clean outputs\n",
    "import warnings\n",
    "warnings.filterwarnings('ignore')"
   ]
  },
  {
   "cell_type": "code",
   "execution_count": 2,
   "id": "aca8c99a",
   "metadata": {},
   "outputs": [],
   "source": [
    "recipe_df = pd.read_csv('../data/recipe_data_cleaned.csv')\n",
    "user_df = pd.read_csv('../data/users_data_cleaned.csv')"
   ]
  },
  {
   "cell_type": "code",
   "execution_count": 3,
   "id": "a6b6b015",
   "metadata": {},
   "outputs": [
    {
     "data": {
      "text/html": [
       "<div>\n",
       "<style scoped>\n",
       "    .dataframe tbody tr th:only-of-type {\n",
       "        vertical-align: middle;\n",
       "    }\n",
       "\n",
       "    .dataframe tbody tr th {\n",
       "        vertical-align: top;\n",
       "    }\n",
       "\n",
       "    .dataframe thead th {\n",
       "        text-align: right;\n",
       "    }\n",
       "</style>\n",
       "<table border=\"1\" class=\"dataframe\">\n",
       "  <thead>\n",
       "    <tr style=\"text-align: right;\">\n",
       "      <th></th>\n",
       "      <th>id</th>\n",
       "      <th>name</th>\n",
       "      <th>minutes</th>\n",
       "      <th>n_steps</th>\n",
       "      <th>n_ingredients</th>\n",
       "      <th>Prep Time</th>\n",
       "      <th>Ingredient List</th>\n",
       "      <th>Recipe Process</th>\n",
       "      <th>is_vegan</th>\n",
       "      <th>is_vegetarian</th>\n",
       "      <th>...</th>\n",
       "      <th>nutrition_1</th>\n",
       "      <th>nutrition_2</th>\n",
       "      <th>nutrition_3</th>\n",
       "      <th>nutrition_4</th>\n",
       "      <th>nutrition_5</th>\n",
       "      <th>nutrition_6</th>\n",
       "      <th>nutrition_7</th>\n",
       "      <th>user_id</th>\n",
       "      <th>date</th>\n",
       "      <th>rating</th>\n",
       "    </tr>\n",
       "  </thead>\n",
       "  <tbody>\n",
       "    <tr>\n",
       "      <th>0</th>\n",
       "      <td>137739</td>\n",
       "      <td>arriba   baked winter squash mexican style</td>\n",
       "      <td>55</td>\n",
       "      <td>11</td>\n",
       "      <td>7</td>\n",
       "      <td>0</td>\n",
       "      <td>0</td>\n",
       "      <td>0</td>\n",
       "      <td>0</td>\n",
       "      <td>1</td>\n",
       "      <td>...</td>\n",
       "      <td>51.5</td>\n",
       "      <td>0.0</td>\n",
       "      <td>13.0</td>\n",
       "      <td>0.0</td>\n",
       "      <td>2.0</td>\n",
       "      <td>0.0</td>\n",
       "      <td>4.0</td>\n",
       "      <td>4470</td>\n",
       "      <td>2006-02-18</td>\n",
       "      <td>5</td>\n",
       "    </tr>\n",
       "    <tr>\n",
       "      <th>1</th>\n",
       "      <td>137739</td>\n",
       "      <td>arriba   baked winter squash mexican style</td>\n",
       "      <td>55</td>\n",
       "      <td>11</td>\n",
       "      <td>7</td>\n",
       "      <td>0</td>\n",
       "      <td>0</td>\n",
       "      <td>0</td>\n",
       "      <td>0</td>\n",
       "      <td>1</td>\n",
       "      <td>...</td>\n",
       "      <td>51.5</td>\n",
       "      <td>0.0</td>\n",
       "      <td>13.0</td>\n",
       "      <td>0.0</td>\n",
       "      <td>2.0</td>\n",
       "      <td>0.0</td>\n",
       "      <td>4.0</td>\n",
       "      <td>593927</td>\n",
       "      <td>2010-08-21</td>\n",
       "      <td>5</td>\n",
       "    </tr>\n",
       "    <tr>\n",
       "      <th>2</th>\n",
       "      <td>137739</td>\n",
       "      <td>arriba   baked winter squash mexican style</td>\n",
       "      <td>55</td>\n",
       "      <td>11</td>\n",
       "      <td>7</td>\n",
       "      <td>0</td>\n",
       "      <td>0</td>\n",
       "      <td>0</td>\n",
       "      <td>0</td>\n",
       "      <td>1</td>\n",
       "      <td>...</td>\n",
       "      <td>51.5</td>\n",
       "      <td>0.0</td>\n",
       "      <td>13.0</td>\n",
       "      <td>0.0</td>\n",
       "      <td>2.0</td>\n",
       "      <td>0.0</td>\n",
       "      <td>4.0</td>\n",
       "      <td>178427</td>\n",
       "      <td>2011-12-05</td>\n",
       "      <td>5</td>\n",
       "    </tr>\n",
       "    <tr>\n",
       "      <th>3</th>\n",
       "      <td>31490</td>\n",
       "      <td>a bit different  breakfast pizza</td>\n",
       "      <td>30</td>\n",
       "      <td>9</td>\n",
       "      <td>6</td>\n",
       "      <td>0</td>\n",
       "      <td>0</td>\n",
       "      <td>0</td>\n",
       "      <td>0</td>\n",
       "      <td>0</td>\n",
       "      <td>...</td>\n",
       "      <td>173.4</td>\n",
       "      <td>18.0</td>\n",
       "      <td>0.0</td>\n",
       "      <td>17.0</td>\n",
       "      <td>22.0</td>\n",
       "      <td>35.0</td>\n",
       "      <td>1.0</td>\n",
       "      <td>28603</td>\n",
       "      <td>2002-08-19</td>\n",
       "      <td>0</td>\n",
       "    </tr>\n",
       "    <tr>\n",
       "      <th>4</th>\n",
       "      <td>31490</td>\n",
       "      <td>a bit different  breakfast pizza</td>\n",
       "      <td>30</td>\n",
       "      <td>9</td>\n",
       "      <td>6</td>\n",
       "      <td>0</td>\n",
       "      <td>0</td>\n",
       "      <td>0</td>\n",
       "      <td>0</td>\n",
       "      <td>0</td>\n",
       "      <td>...</td>\n",
       "      <td>173.4</td>\n",
       "      <td>18.0</td>\n",
       "      <td>0.0</td>\n",
       "      <td>17.0</td>\n",
       "      <td>22.0</td>\n",
       "      <td>35.0</td>\n",
       "      <td>1.0</td>\n",
       "      <td>346277</td>\n",
       "      <td>2006-08-27</td>\n",
       "      <td>5</td>\n",
       "    </tr>\n",
       "  </tbody>\n",
       "</table>\n",
       "<p>5 rows × 21 columns</p>\n",
       "</div>"
      ],
      "text/plain": [
       "       id                                        name  minutes  n_steps  \\\n",
       "0  137739  arriba   baked winter squash mexican style       55       11   \n",
       "1  137739  arriba   baked winter squash mexican style       55       11   \n",
       "2  137739  arriba   baked winter squash mexican style       55       11   \n",
       "3   31490            a bit different  breakfast pizza       30        9   \n",
       "4   31490            a bit different  breakfast pizza       30        9   \n",
       "\n",
       "   n_ingredients  Prep Time  Ingredient List  Recipe Process  is_vegan  \\\n",
       "0              7          0                0               0         0   \n",
       "1              7          0                0               0         0   \n",
       "2              7          0                0               0         0   \n",
       "3              6          0                0               0         0   \n",
       "4              6          0                0               0         0   \n",
       "\n",
       "   is_vegetarian  ...  nutrition_1  nutrition_2  nutrition_3  nutrition_4  \\\n",
       "0              1  ...         51.5          0.0         13.0          0.0   \n",
       "1              1  ...         51.5          0.0         13.0          0.0   \n",
       "2              1  ...         51.5          0.0         13.0          0.0   \n",
       "3              0  ...        173.4         18.0          0.0         17.0   \n",
       "4              0  ...        173.4         18.0          0.0         17.0   \n",
       "\n",
       "   nutrition_5  nutrition_6  nutrition_7  user_id        date rating  \n",
       "0          2.0          0.0          4.0     4470  2006-02-18      5  \n",
       "1          2.0          0.0          4.0   593927  2010-08-21      5  \n",
       "2          2.0          0.0          4.0   178427  2011-12-05      5  \n",
       "3         22.0         35.0          1.0    28603  2002-08-19      0  \n",
       "4         22.0         35.0          1.0   346277  2006-08-27      5  \n",
       "\n",
       "[5 rows x 21 columns]"
      ]
     },
     "execution_count": 3,
     "metadata": {},
     "output_type": "execute_result"
    }
   ],
   "source": [
    "#Prepare a dataframe that merges the two dfs and preprocesses for the models\n",
    "joint_df = recipe_df.merge(user_df, left_on='id', right_on='recipe_id')\n",
    "joint_df.drop(['recipe_id'], axis=1, inplace=True)\n",
    "joint_df['Prep Time'] = joint_df['Prep Time'].map({'Short': 0, 'Medium': 1, 'Long': 2})\n",
    "joint_df['Ingredient List'] = joint_df['Ingredient List'].map({'Short': 0, 'Medium': 1, 'Long': 2})\n",
    "joint_df['Recipe Process'] = joint_df['Recipe Process'].map({'Short': 0, 'Medium': 1, 'Long': 2})\n",
    "joint_df['cuisine'] = joint_df['cuisine'].map({'north american': 0, 'asian': 1, 'european': 2, 'african': 3, 'south american': 4, 'australian': 5, np.nan: -1})\n",
    "joint_df.head()"
   ]
  },
  {
   "cell_type": "markdown",
   "id": "b65fa983",
   "metadata": {},
   "source": [
    "## 4. Simple Recommender System"
   ]
  },
  {
   "cell_type": "markdown",
   "id": "6517669f",
   "metadata": {},
   "source": [
    "This simple recommender system determines and returns the top n recipes as rated by all users "
   ]
  },
  {
   "cell_type": "code",
   "execution_count": 4,
   "id": "46b778f7",
   "metadata": {},
   "outputs": [],
   "source": [
    "def top_recommendations(num_recommendations):\n",
    "    #prepare a df for SR system\n",
    "    grouped_ratings = user_df.groupby('recipe_id', as_index=False)['rating'].mean().rename(columns= {'rating':'mean_rating'})\n",
    "    grouped_votecount = user_df.groupby('recipe_id', as_index=False)['rating'].count().rename(columns= {'rating':'rating_count'})\n",
    "    gr_df = grouped_ratings.merge(grouped_votecount, on='recipe_id')\n",
    "    ratings_df = recipe_df.merge(gr_df, left_on='id', right_on='recipe_id')\n",
    "    ratings_df.drop('recipe_id', axis=1, inplace=True)\n",
    "    \n",
    "    #determine and apply a threshold to filter recipes by the number of reviews\n",
    "    C = ratings_df['mean_rating'].mean()\n",
    "    m = ratings_df['rating_count'].quantile(0.90)\n",
    "    filtered_ratings = ratings_df.copy().loc[ratings_df['rating_count']>=m]\n",
    "    \n",
    "    # Calculate a weighted score based on the IMDB weighted rating formula\n",
    "    def weighted_rating(x, m=m, C=C):\n",
    "        v = x['rating_count']\n",
    "        R = x['mean_rating']\n",
    "        return (v/(v+m) * R) + (m/(m+v) * C)\n",
    "    \n",
    "    #return recommendations based on the highest scores\n",
    "    filtered_ratings['score'] = filtered_ratings.apply(weighted_rating, axis=1)\n",
    "    filtered_ratings.sort_values('score', ascending=False, inplace=True)\n",
    "    filtered_ratings.set_index('id')\n",
    "    return filtered_ratings[['name','score','rating_count']].head(num_recommendations)"
   ]
  },
  {
   "cell_type": "code",
   "execution_count": 5,
   "id": "5f1f9eba",
   "metadata": {},
   "outputs": [
    {
     "data": {
      "text/html": [
       "<div>\n",
       "<style scoped>\n",
       "    .dataframe tbody tr th:only-of-type {\n",
       "        vertical-align: middle;\n",
       "    }\n",
       "\n",
       "    .dataframe tbody tr th {\n",
       "        vertical-align: top;\n",
       "    }\n",
       "\n",
       "    .dataframe thead th {\n",
       "        text-align: right;\n",
       "    }\n",
       "</style>\n",
       "<table border=\"1\" class=\"dataframe\">\n",
       "  <thead>\n",
       "    <tr style=\"text-align: right;\">\n",
       "      <th></th>\n",
       "      <th>Recipe Name</th>\n",
       "      <th>Weighted Rating</th>\n",
       "      <th>Number of Ratings</th>\n",
       "    </tr>\n",
       "  </thead>\n",
       "  <tbody>\n",
       "    <tr>\n",
       "      <th>134684</th>\n",
       "      <td>mexican stack up  rsc</td>\n",
       "      <td>4.965116</td>\n",
       "      <td>217</td>\n",
       "    </tr>\n",
       "    <tr>\n",
       "      <th>35255</th>\n",
       "      <td>caprese salad tomatoes  italian marinated toma...</td>\n",
       "      <td>4.903545</td>\n",
       "      <td>52</td>\n",
       "    </tr>\n",
       "    <tr>\n",
       "      <th>129662</th>\n",
       "      <td>mango salsa  1</td>\n",
       "      <td>4.892966</td>\n",
       "      <td>74</td>\n",
       "    </tr>\n",
       "    <tr>\n",
       "      <th>207459</th>\n",
       "      <td>syrup for blueberry pancakes</td>\n",
       "      <td>4.880549</td>\n",
       "      <td>57</td>\n",
       "    </tr>\n",
       "    <tr>\n",
       "      <th>214172</th>\n",
       "      <td>toffee dip with apples</td>\n",
       "      <td>4.876816</td>\n",
       "      <td>55</td>\n",
       "    </tr>\n",
       "  </tbody>\n",
       "</table>\n",
       "</div>"
      ],
      "text/plain": [
       "                                              Recipe Name  Weighted Rating  \\\n",
       "134684                              mexican stack up  rsc         4.965116   \n",
       "35255   caprese salad tomatoes  italian marinated toma...         4.903545   \n",
       "129662                                     mango salsa  1         4.892966   \n",
       "207459                       syrup for blueberry pancakes         4.880549   \n",
       "214172                             toffee dip with apples         4.876816   \n",
       "\n",
       "        Number of Ratings  \n",
       "134684                217  \n",
       "35255                  52  \n",
       "129662                 74  \n",
       "207459                 57  \n",
       "214172                 55  "
      ]
     },
     "execution_count": 5,
     "metadata": {},
     "output_type": "execute_result"
    }
   ],
   "source": [
    "top_recommendations(5).rename({'name': 'Recipe Name', 'score': 'Weighted Rating', 'rating_count': 'Number of Ratings'}, axis=1)"
   ]
  },
  {
   "cell_type": "markdown",
   "id": "82a4b782",
   "metadata": {},
   "source": [
    "## 5. Content Based Recommender"
   ]
  },
  {
   "cell_type": "markdown",
   "id": "1f4f5602",
   "metadata": {},
   "source": [
    "This content-based recommender system aims to find the top-n most similar recipes to the recipe passed in as input. Cosine similarity is a good measure for finding most similar items however it is not a space efficient option. For a large dataset, it requires unrealistic amount of memory hence a better alternative for optimizing memory constraints is k-means which approximates the similarity between each data points through clusters."
   ]
  },
  {
   "cell_type": "code",
   "execution_count": 6,
   "id": "7fe40718",
   "metadata": {},
   "outputs": [],
   "source": [
    "df = recipe_df.set_index('id')\n",
    "df['Prep Time'] = df['Prep Time'].map({'Short': 0, 'Medium': 1, 'Long': 2})\n",
    "df['Ingredient List'] = df['Ingredient List'].map({'Short': 0, 'Medium': 1, 'Long': 2})\n",
    "df['Recipe Process'] = df['Recipe Process'].map({'Short': 0, 'Medium': 1, 'Long': 2})\n",
    "df['cuisine'] = df['cuisine'].map({'north american': 0, 'asian': 1, 'european': 2, 'african': 3, 'south american': 4, 'australian': 5})\n",
    "df.dropna(axis=0,inplace=True)"
   ]
  },
  {
   "cell_type": "code",
   "execution_count": 7,
   "id": "9cd689f4",
   "metadata": {},
   "outputs": [
    {
     "data": {
      "image/png": "[encoded data removed]",
      "text/plain": [
       "<Figure size 640x480 with 1 Axes>"
      ]
     },
     "metadata": {},
     "output_type": "display_data"
    }
   ],
   "source": [
    "sse = {}\n",
    "for k in range(1, 10):\n",
    "    kmeans = KMeans(n_clusters=k, max_iter=100).fit(df.drop('name',axis=1))\n",
    "    sse[k] = kmeans.inertia_ # Inertia: Sum of distances of samples to their closest cluster center\n",
    "plt.figure()\n",
    "plt.plot(list(sse.keys()), list(sse.values()))\n",
    "plt.xlabel(\"Number of clusters\")\n",
    "plt.ylabel(\"SSE\")\n",
    "plt.title('KMeans Elbow Criterion for Number of Clusters')\n",
    "plt.show()"
   ]
  },
  {
   "cell_type": "markdown",
   "id": "d47e38b4",
   "metadata": {},
   "source": [
    "From the elbow curve, we find that the ideal number of clusters is between 3-5."
   ]
  },
  {
   "cell_type": "code",
   "execution_count": 8,
   "id": "1e57b834",
   "metadata": {},
   "outputs": [],
   "source": [
    "kmeans = KMeans(n_clusters=4, init = 'k-means++', max_iter = 300, n_init = 10, random_state = 0)\n",
    "clusters = kmeans.fit_predict(df.drop('name', axis=1))\n",
    "X_dist = kmeans.transform(df.drop('name',axis=1))**2\n",
    "labels = kmeans.labels_"
   ]
  },
  {
   "cell_type": "code",
   "execution_count": 9,
   "id": "0a4daef6",
   "metadata": {},
   "outputs": [
    {
     "data": {
      "text/html": [
       "<div>\n",
       "<style scoped>\n",
       "    .dataframe tbody tr th:only-of-type {\n",
       "        vertical-align: middle;\n",
       "    }\n",
       "\n",
       "    .dataframe tbody tr th {\n",
       "        vertical-align: top;\n",
       "    }\n",
       "\n",
       "    .dataframe thead th {\n",
       "        text-align: right;\n",
       "    }\n",
       "</style>\n",
       "<table border=\"1\" class=\"dataframe\">\n",
       "  <thead>\n",
       "    <tr style=\"text-align: right;\">\n",
       "      <th></th>\n",
       "      <th>0</th>\n",
       "      <th>1</th>\n",
       "      <th>2</th>\n",
       "      <th>3</th>\n",
       "      <th>4</th>\n",
       "      <th>5</th>\n",
       "      <th>6</th>\n",
       "      <th>7</th>\n",
       "      <th>8</th>\n",
       "      <th>9</th>\n",
       "      <th>...</th>\n",
       "      <th>90050</th>\n",
       "      <th>90051</th>\n",
       "      <th>90052</th>\n",
       "      <th>90053</th>\n",
       "      <th>90054</th>\n",
       "      <th>90055</th>\n",
       "      <th>90056</th>\n",
       "      <th>90057</th>\n",
       "      <th>90058</th>\n",
       "      <th>90059</th>\n",
       "    </tr>\n",
       "  </thead>\n",
       "  <tbody>\n",
       "    <tr>\n",
       "      <th>recipeId</th>\n",
       "      <td>137739.000000</td>\n",
       "      <td>31490.000000</td>\n",
       "      <td>44061.000000</td>\n",
       "      <td>5289.000000</td>\n",
       "      <td>25274.000000</td>\n",
       "      <td>67888.000000</td>\n",
       "      <td>6.754700e+04</td>\n",
       "      <td>43026.000000</td>\n",
       "      <td>8559.000000</td>\n",
       "      <td>23850.000000</td>\n",
       "      <td>...</td>\n",
       "      <td>27846.000000</td>\n",
       "      <td>60148.000000</td>\n",
       "      <td>424875.000000</td>\n",
       "      <td>86005.000000</td>\n",
       "      <td>103312.000000</td>\n",
       "      <td>455209.000000</td>\n",
       "      <td>61748.000000</td>\n",
       "      <td>410985.000000</td>\n",
       "      <td>357451.000000</td>\n",
       "      <td>486161.000000</td>\n",
       "    </tr>\n",
       "    <tr>\n",
       "      <th>cluster</th>\n",
       "      <td>0.000000</td>\n",
       "      <td>0.000000</td>\n",
       "      <td>0.000000</td>\n",
       "      <td>0.000000</td>\n",
       "      <td>0.000000</td>\n",
       "      <td>0.000000</td>\n",
       "      <td>0.000000e+00</td>\n",
       "      <td>0.000000</td>\n",
       "      <td>0.000000</td>\n",
       "      <td>0.000000</td>\n",
       "      <td>...</td>\n",
       "      <td>0.000000</td>\n",
       "      <td>0.000000</td>\n",
       "      <td>0.000000</td>\n",
       "      <td>0.000000</td>\n",
       "      <td>0.000000</td>\n",
       "      <td>0.000000</td>\n",
       "      <td>0.000000</td>\n",
       "      <td>0.000000</td>\n",
       "      <td>0.000000</td>\n",
       "      <td>0.000000</td>\n",
       "    </tr>\n",
       "    <tr>\n",
       "      <th>dist_to_closest_centroid</th>\n",
       "      <td>131915.111795</td>\n",
       "      <td>60630.410366</td>\n",
       "      <td>97212.000773</td>\n",
       "      <td>70528.115363</td>\n",
       "      <td>10262.796129</td>\n",
       "      <td>674045.470966</td>\n",
       "      <td>8.309568e+06</td>\n",
       "      <td>103133.704947</td>\n",
       "      <td>1912.266482</td>\n",
       "      <td>57413.551621</td>\n",
       "      <td>...</td>\n",
       "      <td>39747.902279</td>\n",
       "      <td>85529.505498</td>\n",
       "      <td>80127.889163</td>\n",
       "      <td>60235.172918</td>\n",
       "      <td>228572.585248</td>\n",
       "      <td>94632.328562</td>\n",
       "      <td>28718.727149</td>\n",
       "      <td>12211.964105</td>\n",
       "      <td>36107.993254</td>\n",
       "      <td>2089.294924</td>\n",
       "    </tr>\n",
       "  </tbody>\n",
       "</table>\n",
       "<p>3 rows × 90060 columns</p>\n",
       "</div>"
      ],
      "text/plain": [
       "                                  0             1             2      \\\n",
       "recipeId                  137739.000000  31490.000000  44061.000000   \n",
       "cluster                        0.000000      0.000000      0.000000   \n",
       "dist_to_closest_centroid  131915.111795  60630.410366  97212.000773   \n",
       "\n",
       "                                 3             4              5      \\\n",
       "recipeId                   5289.000000  25274.000000   67888.000000   \n",
       "cluster                       0.000000      0.000000       0.000000   \n",
       "dist_to_closest_centroid  70528.115363  10262.796129  674045.470966   \n",
       "\n",
       "                                 6              7            8      \\\n",
       "recipeId                  6.754700e+04   43026.000000  8559.000000   \n",
       "cluster                   0.000000e+00       0.000000     0.000000   \n",
       "dist_to_closest_centroid  8.309568e+06  103133.704947  1912.266482   \n",
       "\n",
       "                                 9      ...         90050         90051  \\\n",
       "recipeId                  23850.000000  ...  27846.000000  60148.000000   \n",
       "cluster                       0.000000  ...      0.000000      0.000000   \n",
       "dist_to_closest_centroid  57413.551621  ...  39747.902279  85529.505498   \n",
       "\n",
       "                                  90052         90053          90054  \\\n",
       "recipeId                  424875.000000  86005.000000  103312.000000   \n",
       "cluster                        0.000000      0.000000       0.000000   \n",
       "dist_to_closest_centroid   80127.889163  60235.172918  228572.585248   \n",
       "\n",
       "                                  90055         90056          90057  \\\n",
       "recipeId                  455209.000000  61748.000000  410985.000000   \n",
       "cluster                        0.000000      0.000000       0.000000   \n",
       "dist_to_closest_centroid   94632.328562  28718.727149   12211.964105   \n",
       "\n",
       "                                  90058          90059  \n",
       "recipeId                  357451.000000  486161.000000  \n",
       "cluster                        0.000000       0.000000  \n",
       "dist_to_closest_centroid   36107.993254    2089.294924  \n",
       "\n",
       "[3 rows x 90060 columns]"
      ]
     },
     "execution_count": 9,
     "metadata": {},
     "output_type": "execute_result"
    }
   ],
   "source": [
    "recipes_cluster = pd.DataFrame(np.concatenate((df.reset_index()['id'].values.reshape(-1,1), labels.reshape(-1,1)), axis = 1), columns = ['recipeId', 'cluster'])\n",
    "recipes_cluster['dist_to_closest_centroid'] = X_dist.min(axis=1)\n",
    "recipes_cluster.T"
   ]
  },
  {
   "cell_type": "code",
   "execution_count": 10,
   "id": "629997ab",
   "metadata": {},
   "outputs": [],
   "source": [
    "def get_recommendations(recipe_id, num_recommendations):\n",
    "    rc = recipes_cluster.loc[recipes_cluster['recipeId']==recipe_id]['cluster']\n",
    "    sorted_cluster_recipes = recipes_cluster.loc[recipes_cluster['cluster']==int(rc)].sort_values('dist_to_closest_centroid', ascending=True)\n",
    "    idx = sorted_cluster_recipes.loc[recipes_cluster['recipeId']!=recipe_id]['recipeId'][:num_recommendations]\n",
    "    return df.loc[df.index.isin(idx)]['name']"
   ]
  },
  {
   "cell_type": "code",
   "execution_count": 11,
   "id": "21e20023",
   "metadata": {},
   "outputs": [
    {
     "data": {
      "text/plain": [
       "id\n",
       "503239                   baked beans with baked bacon\n",
       "35418     beef stuffed bell peppers with creole sauce\n",
       "349048                               enchiladas verde\n",
       "33431                                        meatloaf\n",
       "426424                     spicy lamb stuffed peppers\n",
       "Name: name, dtype: object"
      ]
     },
     "execution_count": 11,
     "metadata": {},
     "output_type": "execute_result"
    }
   ],
   "source": [
    "get_recommendations(144117, 5)"
   ]
  },
  {
   "cell_type": "markdown",
   "id": "6ee368bd",
   "metadata": {},
   "source": [
    "## 6. Hybrid Recommender System"
   ]
  },
  {
   "cell_type": "markdown",
   "id": "20c69113",
   "metadata": {},
   "source": []
  },
  {
   "cell_type": "code",
   "execution_count": 12,
   "id": "e572c3d0",
   "metadata": {},
   "outputs": [],
   "source": [
    "review_counts = pd.DataFrame(joint_df['id'].value_counts())\n",
    "rare_recipes = review_counts[review_counts['id'] <= 40].index\n",
    "common_recipes = joint_df[~joint_df['id'].isin(rare_recipes)]\n",
    "user_recipe_df = common_recipes.pivot_table(index=['user_id'], columns=['id'], values='rating')"
   ]
  },
  {
   "cell_type": "code",
   "execution_count": 13,
   "id": "2d3fff73",
   "metadata": {},
   "outputs": [],
   "source": [
    "def hybrid_recommendations(user_id, num_recommendations):\n",
    "    #reduce the dataset to the user and choose all non-null recipes\n",
    "    random_user_df = user_recipe_df[user_recipe_df.index == user_id]\n",
    "    recipes_viewed = random_user_df.columns[random_user_df.notna().any()].tolist()\n",
    "    recipes_viewed_df = user_recipe_df[recipes_viewed]\n",
    "    \n",
    "    #dataset of how many recipes, from the list of recipes viewed by input user, each user viewed in total:\n",
    "    user_recipe_count = recipes_viewed_df.T.notnull().sum()\n",
    "    user_recipe_count = user_recipe_count.reset_index()\n",
    "    user_recipe_count.columns = [\"userId\",\"recipe_count\"]\n",
    "    \n",
    "    #users who have viewed atleast 25% of the same recipes as the input user\n",
    "    perc = len(recipes_viewed) * 25 / 100\n",
    "    users_same_recipes = user_recipe_count[user_recipe_count['recipe_count'] > perc]['userId']\n",
    "    \n",
    "    #combine the data of the input user and similar users and calculate the correlation\n",
    "    final_df = pd.concat([recipes_viewed_df[recipes_viewed_df.index.isin(users_same_recipes)],random_user_df[recipes_viewed]])\n",
    "    corr_df = final_df.T.corr().unstack().sort_values().drop_duplicates()\n",
    "    corr_df = pd.DataFrame(corr_df, columns=[\"corr\"])\n",
    "    corr_df.index.names = ['user_id_1', 'user_id_2']\n",
    "    corr_df = corr_df.reset_index()\n",
    "    \n",
    "    #top user correlations with the input user (top defined to be greater or equal to the mean correlation)\n",
    "    mean_corr = corr_df['corr'].mean()\n",
    "    top_users = corr_df[(corr_df[\"user_id_1\"] == user_id) & (corr_df[\"corr\"] >= mean_corr)][[\"user_id_2\", \"corr\"]].reset_index(drop=True)\n",
    "    top_users = top_users.sort_values(by='corr', ascending=False)\n",
    "    top_users.rename(columns={\"user_id_2\": \"userId\"}, inplace=True)\n",
    "    \n",
    "    #if no correlated users found\n",
    "    if((top_users.empty) or len(top_users) == 1):\n",
    "        return top_recommendations(5)\n",
    "        \n",
    "    #The list of top users with the correlation joined with their recipe ratings\n",
    "    top_user_ratings = top_users.merge(user_df[['user_id', 'recipe_id', 'rating']], how='inner', left_on='userId', right_on='user_id')\n",
    "    top_user_ratings = top_user_ratings[top_user_ratings[\"userId\"] != user_id]\n",
    "    top_user_ratings.drop('user_id',axis=1, inplace=True)\n",
    "    \n",
    "    #Calculate weighted rating by multiplying the correlation with the user rating\n",
    "    top_user_ratings['weighted_rating'] = top_user_ratings['corr'] * top_user_ratings['rating']\n",
    "    recommendation_df = top_user_ratings.groupby('recipe_id').agg({\"weighted_rating\": \"mean\"})\n",
    "    recommendation_df = recommendation_df.reset_index()\n",
    "    \n",
    "    recipes_to_recommend = recommendation_df[recommendation_df[\"weighted_rating\"] >= 3.0].sort_values(\"weighted_rating\", ascending=False)\n",
    "    return recipes_to_recommend.merge(recipe_df[['id','name']], how='inner', left_on='recipe_id', right_on='id').drop('id', axis=1)[:num_recommendations].set_index('recipe_id')"
   ]
  },
  {
   "cell_type": "code",
   "execution_count": 14,
   "id": "a6040755",
   "metadata": {
    "scrolled": false
   },
   "outputs": [
    {
     "data": {
      "text/html": [
       "<div>\n",
       "<style scoped>\n",
       "    .dataframe tbody tr th:only-of-type {\n",
       "        vertical-align: middle;\n",
       "    }\n",
       "\n",
       "    .dataframe tbody tr th {\n",
       "        vertical-align: top;\n",
       "    }\n",
       "\n",
       "    .dataframe thead th {\n",
       "        text-align: right;\n",
       "    }\n",
       "</style>\n",
       "<table border=\"1\" class=\"dataframe\">\n",
       "  <thead>\n",
       "    <tr style=\"text-align: right;\">\n",
       "      <th></th>\n",
       "      <th>weighted_rating</th>\n",
       "      <th>name</th>\n",
       "    </tr>\n",
       "    <tr>\n",
       "      <th>recipe_id</th>\n",
       "      <th></th>\n",
       "      <th></th>\n",
       "    </tr>\n",
       "  </thead>\n",
       "  <tbody>\n",
       "    <tr>\n",
       "      <th>2625</th>\n",
       "      <td>5.0</td>\n",
       "      <td>spinach cashew salad</td>\n",
       "    </tr>\n",
       "    <tr>\n",
       "      <th>175343</th>\n",
       "      <td>5.0</td>\n",
       "      <td>banana spice bars</td>\n",
       "    </tr>\n",
       "    <tr>\n",
       "      <th>168748</th>\n",
       "      <td>5.0</td>\n",
       "      <td>rachael ray s mamacello pasta</td>\n",
       "    </tr>\n",
       "    <tr>\n",
       "      <th>167894</th>\n",
       "      <td>5.0</td>\n",
       "      <td>boneless pork chops milanese</td>\n",
       "    </tr>\n",
       "    <tr>\n",
       "      <th>167792</th>\n",
       "      <td>5.0</td>\n",
       "      <td>honey glazed corned beef</td>\n",
       "    </tr>\n",
       "  </tbody>\n",
       "</table>\n",
       "</div>"
      ],
      "text/plain": [
       "           weighted_rating                           name\n",
       "recipe_id                                                \n",
       "2625                   5.0           spinach cashew salad\n",
       "175343                 5.0              banana spice bars\n",
       "168748                 5.0  rachael ray s mamacello pasta\n",
       "167894                 5.0   boneless pork chops milanese\n",
       "167792                 5.0       honey glazed corned beef"
      ]
     },
     "execution_count": 14,
     "metadata": {},
     "output_type": "execute_result"
    }
   ],
   "source": [
    "hybrid_recommendations(28603, 5)"
   ]
  },
  {
   "cell_type": "markdown",
   "id": "b1d4f81f",
   "metadata": {},
   "source": [
    "## 7. Putting it all together"
   ]
  },
  {
   "cell_type": "markdown",
   "id": "7885d5d9",
   "metadata": {},
   "source": [
    "A full recommendation engine accounts for multiple scenarios such as a user with many reviews and a user with no reviews. The engine belows considers three scenarios and utilizes all three recommenders constructed above."
   ]
  },
  {
   "cell_type": "code",
   "execution_count": 15,
   "id": "ce3839ac",
   "metadata": {},
   "outputs": [],
   "source": [
    "def recommend(user_id, num_recommendations):\n",
    "    num_ratings_by_user = joint_df[joint_df['user_id'] == user_id]['rating'].count()\n",
    "    \n",
    "    #Scenario 1: Brand new user then recommend the most popular recipes\n",
    "    if(num_ratings_by_user == 0):\n",
    "        return top_recommendations(num_recommendations).rename({'name': 'Recipe Name', 'score': 'Weighted Rating', 'rating_count': 'Number of Ratings'}, axis=1)\n",
    "    #Scenario 2: Only 1 review by the user then use the content recommender\n",
    "    elif(num_ratings_by_user == 1):\n",
    "        recipe_id = joint_df[joint_df['user_id'] == user_id]['id']\n",
    "        return get_recommendations(recipe_id, num_recommendations)\n",
    "    #Scenario 3: Multiple ratings by the user, then use the hybrid recommender\n",
    "    else:\n",
    "        return hybrid_recommendations(user_id, num_recommendations)"
   ]
  },
  {
   "cell_type": "code",
   "execution_count": 16,
   "id": "6fdb1a47",
   "metadata": {},
   "outputs": [
    {
     "data": {
      "text/html": [
       "<div>\n",
       "<style scoped>\n",
       "    .dataframe tbody tr th:only-of-type {\n",
       "        vertical-align: middle;\n",
       "    }\n",
       "\n",
       "    .dataframe tbody tr th {\n",
       "        vertical-align: top;\n",
       "    }\n",
       "\n",
       "    .dataframe thead th {\n",
       "        text-align: right;\n",
       "    }\n",
       "</style>\n",
       "<table border=\"1\" class=\"dataframe\">\n",
       "  <thead>\n",
       "    <tr style=\"text-align: right;\">\n",
       "      <th></th>\n",
       "      <th>Recipe Name</th>\n",
       "      <th>Weighted Rating</th>\n",
       "      <th>Number of Ratings</th>\n",
       "    </tr>\n",
       "  </thead>\n",
       "  <tbody>\n",
       "    <tr>\n",
       "      <th>134684</th>\n",
       "      <td>mexican stack up  rsc</td>\n",
       "      <td>4.965116</td>\n",
       "      <td>217</td>\n",
       "    </tr>\n",
       "    <tr>\n",
       "      <th>35255</th>\n",
       "      <td>caprese salad tomatoes  italian marinated toma...</td>\n",
       "      <td>4.903545</td>\n",
       "      <td>52</td>\n",
       "    </tr>\n",
       "    <tr>\n",
       "      <th>129662</th>\n",
       "      <td>mango salsa  1</td>\n",
       "      <td>4.892966</td>\n",
       "      <td>74</td>\n",
       "    </tr>\n",
       "    <tr>\n",
       "      <th>207459</th>\n",
       "      <td>syrup for blueberry pancakes</td>\n",
       "      <td>4.880549</td>\n",
       "      <td>57</td>\n",
       "    </tr>\n",
       "    <tr>\n",
       "      <th>214172</th>\n",
       "      <td>toffee dip with apples</td>\n",
       "      <td>4.876816</td>\n",
       "      <td>55</td>\n",
       "    </tr>\n",
       "  </tbody>\n",
       "</table>\n",
       "</div>"
      ],
      "text/plain": [
       "                                              Recipe Name  Weighted Rating  \\\n",
       "134684                              mexican stack up  rsc         4.965116   \n",
       "35255   caprese salad tomatoes  italian marinated toma...         4.903545   \n",
       "129662                                     mango salsa  1         4.892966   \n",
       "207459                       syrup for blueberry pancakes         4.880549   \n",
       "214172                             toffee dip with apples         4.876816   \n",
       "\n",
       "        Number of Ratings  \n",
       "134684                217  \n",
       "35255                  52  \n",
       "129662                 74  \n",
       "207459                 57  \n",
       "214172                 55  "
      ]
     },
     "execution_count": 16,
     "metadata": {},
     "output_type": "execute_result"
    }
   ],
   "source": [
    "recommend(10,5)"
   ]
  },
  {
   "cell_type": "markdown",
   "id": "9b54a45c",
   "metadata": {},
   "source": [
    "## 8. Evaluating Model Performance"
   ]
  },
  {
   "cell_type": "markdown",
   "id": "6a35ad7d",
   "metadata": {},
   "source": [
    "The datasets contain no ground truth which can be compared against the predicted values to evaluate performance. Furthermore, unlike commercial recommender systems, users can't provide real time feedback on their recommendations which cand be used to evaluate performance. Therefore, performance must be evaluated in an unorthodox manner."
   ]
  },
  {
   "cell_type": "code",
   "execution_count": 17,
   "id": "46278654",
   "metadata": {},
   "outputs": [
    {
     "data": {
      "text/html": [
       "<div>\n",
       "<style scoped>\n",
       "    .dataframe tbody tr th:only-of-type {\n",
       "        vertical-align: middle;\n",
       "    }\n",
       "\n",
       "    .dataframe tbody tr th {\n",
       "        vertical-align: top;\n",
       "    }\n",
       "\n",
       "    .dataframe thead th {\n",
       "        text-align: right;\n",
       "    }\n",
       "</style>\n",
       "<table border=\"1\" class=\"dataframe\">\n",
       "  <thead>\n",
       "    <tr style=\"text-align: right;\">\n",
       "      <th></th>\n",
       "      <th>name</th>\n",
       "      <th>minutes</th>\n",
       "      <th>n_steps</th>\n",
       "      <th>n_ingredients</th>\n",
       "      <th>Prep Time</th>\n",
       "      <th>Ingredient List</th>\n",
       "      <th>Recipe Process</th>\n",
       "      <th>is_vegan</th>\n",
       "      <th>is_vegetarian</th>\n",
       "      <th>cuisine</th>\n",
       "      <th>nutrition_1</th>\n",
       "      <th>nutrition_2</th>\n",
       "      <th>nutrition_3</th>\n",
       "      <th>nutrition_4</th>\n",
       "      <th>nutrition_5</th>\n",
       "      <th>nutrition_6</th>\n",
       "      <th>nutrition_7</th>\n",
       "    </tr>\n",
       "    <tr>\n",
       "      <th>id</th>\n",
       "      <th></th>\n",
       "      <th></th>\n",
       "      <th></th>\n",
       "      <th></th>\n",
       "      <th></th>\n",
       "      <th></th>\n",
       "      <th></th>\n",
       "      <th></th>\n",
       "      <th></th>\n",
       "      <th></th>\n",
       "      <th></th>\n",
       "      <th></th>\n",
       "      <th></th>\n",
       "      <th></th>\n",
       "      <th></th>\n",
       "      <th></th>\n",
       "      <th></th>\n",
       "    </tr>\n",
       "  </thead>\n",
       "  <tbody>\n",
       "    <tr>\n",
       "      <th>137739</th>\n",
       "      <td>arriba   baked winter squash mexican style</td>\n",
       "      <td>55</td>\n",
       "      <td>11</td>\n",
       "      <td>7</td>\n",
       "      <td>0</td>\n",
       "      <td>0</td>\n",
       "      <td>0</td>\n",
       "      <td>0</td>\n",
       "      <td>1</td>\n",
       "      <td>0.0</td>\n",
       "      <td>51.5</td>\n",
       "      <td>0.0</td>\n",
       "      <td>13.0</td>\n",
       "      <td>0.0</td>\n",
       "      <td>2.0</td>\n",
       "      <td>0.0</td>\n",
       "      <td>4.0</td>\n",
       "    </tr>\n",
       "    <tr>\n",
       "      <th>31490</th>\n",
       "      <td>a bit different  breakfast pizza</td>\n",
       "      <td>30</td>\n",
       "      <td>9</td>\n",
       "      <td>6</td>\n",
       "      <td>0</td>\n",
       "      <td>0</td>\n",
       "      <td>0</td>\n",
       "      <td>0</td>\n",
       "      <td>0</td>\n",
       "      <td>0.0</td>\n",
       "      <td>173.4</td>\n",
       "      <td>18.0</td>\n",
       "      <td>0.0</td>\n",
       "      <td>17.0</td>\n",
       "      <td>22.0</td>\n",
       "      <td>35.0</td>\n",
       "      <td>1.0</td>\n",
       "    </tr>\n",
       "    <tr>\n",
       "      <th>112140</th>\n",
       "      <td>all in the kitchen  chili</td>\n",
       "      <td>130</td>\n",
       "      <td>6</td>\n",
       "      <td>13</td>\n",
       "      <td>2</td>\n",
       "      <td>2</td>\n",
       "      <td>2</td>\n",
       "      <td>0</td>\n",
       "      <td>0</td>\n",
       "      <td>-1.0</td>\n",
       "      <td>269.8</td>\n",
       "      <td>22.0</td>\n",
       "      <td>32.0</td>\n",
       "      <td>48.0</td>\n",
       "      <td>39.0</td>\n",
       "      <td>27.0</td>\n",
       "      <td>5.0</td>\n",
       "    </tr>\n",
       "    <tr>\n",
       "      <th>59389</th>\n",
       "      <td>alouette  potatoes</td>\n",
       "      <td>45</td>\n",
       "      <td>11</td>\n",
       "      <td>11</td>\n",
       "      <td>0</td>\n",
       "      <td>0</td>\n",
       "      <td>0</td>\n",
       "      <td>0</td>\n",
       "      <td>0</td>\n",
       "      <td>-1.0</td>\n",
       "      <td>368.1</td>\n",
       "      <td>17.0</td>\n",
       "      <td>10.0</td>\n",
       "      <td>2.0</td>\n",
       "      <td>14.0</td>\n",
       "      <td>8.0</td>\n",
       "      <td>20.0</td>\n",
       "    </tr>\n",
       "    <tr>\n",
       "      <th>44061</th>\n",
       "      <td>amish  tomato ketchup  for canning</td>\n",
       "      <td>190</td>\n",
       "      <td>5</td>\n",
       "      <td>8</td>\n",
       "      <td>2</td>\n",
       "      <td>2</td>\n",
       "      <td>2</td>\n",
       "      <td>0</td>\n",
       "      <td>1</td>\n",
       "      <td>0.0</td>\n",
       "      <td>352.9</td>\n",
       "      <td>1.0</td>\n",
       "      <td>337.0</td>\n",
       "      <td>23.0</td>\n",
       "      <td>3.0</td>\n",
       "      <td>0.0</td>\n",
       "      <td>28.0</td>\n",
       "    </tr>\n",
       "  </tbody>\n",
       "</table>\n",
       "</div>"
      ],
      "text/plain": [
       "                                              name  minutes  n_steps  \\\n",
       "id                                                                     \n",
       "137739  arriba   baked winter squash mexican style       55       11   \n",
       "31490             a bit different  breakfast pizza       30        9   \n",
       "112140                   all in the kitchen  chili      130        6   \n",
       "59389                           alouette  potatoes       45       11   \n",
       "44061           amish  tomato ketchup  for canning      190        5   \n",
       "\n",
       "        n_ingredients  Prep Time  Ingredient List  Recipe Process  is_vegan  \\\n",
       "id                                                                            \n",
       "137739              7          0                0               0         0   \n",
       "31490               6          0                0               0         0   \n",
       "112140             13          2                2               2         0   \n",
       "59389              11          0                0               0         0   \n",
       "44061               8          2                2               2         0   \n",
       "\n",
       "        is_vegetarian  cuisine  nutrition_1  nutrition_2  nutrition_3  \\\n",
       "id                                                                      \n",
       "137739              1      0.0         51.5          0.0         13.0   \n",
       "31490               0      0.0        173.4         18.0          0.0   \n",
       "112140              0     -1.0        269.8         22.0         32.0   \n",
       "59389               0     -1.0        368.1         17.0         10.0   \n",
       "44061               1      0.0        352.9          1.0        337.0   \n",
       "\n",
       "        nutrition_4  nutrition_5  nutrition_6  nutrition_7  \n",
       "id                                                          \n",
       "137739          0.0          2.0          0.0          4.0  \n",
       "31490          17.0         22.0         35.0          1.0  \n",
       "112140         48.0         39.0         27.0          5.0  \n",
       "59389           2.0         14.0          8.0         20.0  \n",
       "44061          23.0          3.0          0.0         28.0  "
      ]
     },
     "execution_count": 17,
     "metadata": {},
     "output_type": "execute_result"
    }
   ],
   "source": [
    "perf_df = recipe_df.set_index('id')\n",
    "perf_df['Prep Time'] = perf_df['Prep Time'].map({'Short': 0, 'Medium': 1, 'Long': 2})\n",
    "perf_df['Ingredient List'] = perf_df['Ingredient List'].map({'Short': 0, 'Medium': 1, 'Long': 2})\n",
    "perf_df['Recipe Process'] = perf_df['Recipe Process'].map({'Short': 0, 'Medium': 1, 'Long': 2})\n",
    "perf_df['cuisine'] = perf_df['cuisine'].map({'north american': 0, 'asian': 1, 'european': 2, 'african': 3, 'south american': 4, 'australian': 5})\n",
    "perf_df.fillna(-1,inplace=True)\n",
    "perf_df.head()"
   ]
  },
  {
   "cell_type": "markdown",
   "id": "cef529e9",
   "metadata": {},
   "source": [
    "#### Cosine similarity as a performance metric"
   ]
  },
  {
   "cell_type": "markdown",
   "id": "6ede59b3",
   "metadata": {},
   "source": [
    "Cosine similarity can be tested as a viable performance metric by checking how it performs on two closely related recipes and two unrelated recipes. "
   ]
  },
  {
   "cell_type": "code",
   "execution_count": 18,
   "id": "87b5c066",
   "metadata": {},
   "outputs": [
    {
     "name": "stdout",
     "output_type": "stream",
     "text": [
      "id\n",
      "298512    cookies by design   cookies on a stick\n",
      "Name: name, dtype: object\n",
      "id\n",
      "298509    cookies by design   sugar shortbread cookies\n",
      "Name: name, dtype: object\n",
      "cosine similarity of the related recipes: [[0.99170411]]\n"
     ]
    }
   ],
   "source": [
    "related_recipe_1 = perf_df[perf_df.index==298512]\n",
    "related_recipe_2 = perf_df[perf_df.index==298509]\n",
    "print(related_recipe_1['name'])\n",
    "print(related_recipe_2['name'])\n",
    "print('cosine similarity of the related recipes:',cosine_similarity(related_recipe_1.drop('name', axis=1),related_recipe_2.drop('name', axis=1)))"
   ]
  },
  {
   "cell_type": "code",
   "execution_count": 19,
   "id": "0c954f38",
   "metadata": {},
   "outputs": [
    {
     "name": "stdout",
     "output_type": "stream",
     "text": [
      "id\n",
      "486161    zydeco soup\n",
      "Name: name, dtype: object\n",
      "id\n",
      "298509    cookies by design   sugar shortbread cookies\n",
      "Name: name, dtype: object\n",
      "cosine similarity of the unrelated recipes: [[0.9898112]]\n"
     ]
    }
   ],
   "source": [
    "unrelated_recipe_1 = perf_df[perf_df.index==486161]\n",
    "unrelated_recipe_2 = perf_df[perf_df.index==298509]\n",
    "print(unrelated_recipe_1['name'])\n",
    "print(unrelated_recipe_2['name'])\n",
    "print('cosine similarity of the unrelated recipes:',cosine_similarity(unrelated_recipe_1.drop('name', axis=1),unrelated_recipe_2.drop('name', axis=1)))"
   ]
  },
  {
   "cell_type": "markdown",
   "id": "e1be32f2",
   "metadata": {},
   "source": [
    "As seen above, the cosine similarity shows a high degree of similarity between the two related recipes however it also shows a fairly high similarity between two unrelated recipes. This result makes cosine similarity an unreliable metric to evaluate performance."
   ]
  },
  {
   "cell_type": "markdown",
   "id": "76dea7fb",
   "metadata": {},
   "source": [
    "#### Manual performance evaluation"
   ]
  },
  {
   "cell_type": "markdown",
   "id": "3b24c8d3",
   "metadata": {},
   "source": [
    "In lieu of an established performance metric that can be used for this particular case, the model's performance needs to be evaluated manually. I do so by randomly sampling 20 users from the dataset and extracting their most recent recipe reviewed. I manually compare this recipe against the hybrid recommendations generated based on that user's entire review history to determine whether the recommendations are relevant or not."
   ]
  },
  {
   "cell_type": "markdown",
   "id": "29a930d5",
   "metadata": {},
   "source": [
    "Comparision criteria: Cuisine type and food type (appetizer, entree, dessert, etc)"
   ]
  },
  {
   "cell_type": "code",
   "execution_count": 20,
   "id": "b8ff1b3d",
   "metadata": {
    "scrolled": false
   },
   "outputs": [],
   "source": [
    "random.seed(100)\n",
    "users_with_many_reviews = common_recipes.groupby(\"user_id\").filter(lambda x: len(x) > 5)\n",
    "random_userids = random.sample(list(users_with_many_reviews['user_id'].unique()), 20)\n",
    "random_sample_df = common_recipes[common_recipes['user_id'].isin(random_userids)]\n",
    "random_sample_df = random_sample_df.groupby('user_id',as_index=False).apply(lambda x: x[x['date'] == x['date'].max()])"
   ]
  },
  {
   "cell_type": "code",
   "execution_count": 21,
   "id": "4bfab1c5",
   "metadata": {},
   "outputs": [],
   "source": [
    "def evaluate_model_performance(id_list):    \n",
    "    recipes_list = []\n",
    "    for uid in id_list:\n",
    "        recipes = []\n",
    "        all_recipeids = random_sample_df[random_sample_df['user_id'] == uid]['id']\n",
    "        already_viewed = perf_df[perf_df.index.isin(all_recipeids)]\n",
    "        recipes.append(already_viewed['name'].values)\n",
    "        reco_recipes = perf_df[perf_df.index.isin(hybrid_recommendations(uid, 5).index)]\n",
    "        recipes.append(reco_recipes['name'].values)\n",
    "        recipes_list.append(recipes)\n",
    "    return recipes_list"
   ]
  },
  {
   "cell_type": "code",
   "execution_count": 22,
   "id": "063dce6a",
   "metadata": {},
   "outputs": [
    {
     "data": {
      "text/plain": [
       "[[array(['pork roast the old fashion way  cast iron dutch oven'],\n",
       "        dtype=object),\n",
       "  array(['good for you cornbread', 'senegalese chicken and peanut soup',\n",
       "         'seven layer magic bars', 'steak roquefort',\n",
       "         'toasted roasted cheese and onion sandwich'], dtype=object)],\n",
       " [array(['now don t go  eeewww    before you try this'], dtype=object),\n",
       "  array(['deviled eggs    done bobby s way', 'feijoada',\n",
       "         'mousse de tomates', 'zuppanitz  soup of nothing'], dtype=object)],\n",
       " [array(['super peanut butter filled brownies'], dtype=object),\n",
       "  array(['deviled eggs    done bobby s way', 'feijoada',\n",
       "         'mousse de tomates', 'zuppanitz  soup of nothing'], dtype=object)],\n",
       " [array(['alton brown s baked brown rice', 'awesome baked ham'],\n",
       "        dtype=object),\n",
       "  array(['deviled eggs    done bobby s way', 'feijoada',\n",
       "         'mousse de tomates', 'zuppanitz  soup of nothing'], dtype=object)],\n",
       " [array(['creamy burrito casserole'], dtype=object),\n",
       "  array(['apple glazed beef brisket', 'enchilada sauce',\n",
       "         'homemade popsicles', 'pat s aioli sauce', 'stuffed dill pickles'],\n",
       "        dtype=object)],\n",
       " [array(['real southern cornbread'], dtype=object),\n",
       "  array(['gehaktballen  dutch meatballs',\n",
       "         'german cabbage casserole   kohl und hackfleisch',\n",
       "         'green grapes supreme', 'kittencal s garlic parmesan crostini',\n",
       "         'onion and garlic bread'], dtype=object)],\n",
       " [array(['southwestern baked spaghetti'], dtype=object),\n",
       "  array(['carrabba s sausage and lentil soup', 'hearty italian soup',\n",
       "         'july crisp     blueberry', 'skillet penne and sausage supper',\n",
       "         'spicy pork and black bean chili'], dtype=object)],\n",
       " [array(['kittencal s moist cheddar garlic oven fried chicken breast'],\n",
       "        dtype=object),\n",
       "  array(['arctic lime freeze', 'chicken pot pie lasagna',\n",
       "         'healthy no bake cookies', 'italian deviled eggs',\n",
       "         'raw apple muffins'], dtype=object)],\n",
       " [array(['simple baked chicken drumsticks'], dtype=object),\n",
       "  array(['blue stuffed mushrooms', 'herbed cream cheese appetizers',\n",
       "         'mashed potato and leek  souffle',\n",
       "         'orzo with roasted vegetables  barefoot contessa  ina garten',\n",
       "         'parmesan brussels sprouts with new potatoes'], dtype=object)],\n",
       " [array(['creamy potato salad'], dtype=object), array([], dtype=object)],\n",
       " [array(['chicken and dumplings like cracker barrel s'], dtype=object),\n",
       "  array(['deviled eggs    done bobby s way', 'feijoada',\n",
       "         'mousse de tomates', 'zuppanitz  soup of nothing'], dtype=object)],\n",
       " [array(['teriyaki chicken drumsticks  teriyaki'], dtype=object),\n",
       "  array(['deviled eggs    done bobby s way', 'feijoada',\n",
       "         'mousse de tomates', 'zuppanitz  soup of nothing'], dtype=object)],\n",
       " [array(['fresh tomato spaghetti sauce'], dtype=object),\n",
       "  array([], dtype=object)],\n",
       " [array(['tender pork chops in gravy'], dtype=object),\n",
       "  array(['deviled eggs    done bobby s way', 'feijoada',\n",
       "         'mousse de tomates', 'zuppanitz  soup of nothing'], dtype=object)],\n",
       " [array(['granny s banana cream pie'], dtype=object),\n",
       "  array(['deviled eggs    done bobby s way', 'feijoada',\n",
       "         'mousse de tomates', 'zuppanitz  soup of nothing'], dtype=object)],\n",
       " [array(['simply sour cream chicken enchiladas'], dtype=object),\n",
       "  array(['deviled eggs    done bobby s way', 'feijoada',\n",
       "         'mousse de tomates', 'zuppanitz  soup of nothing'], dtype=object)],\n",
       " [array(['no bake rice krispies peanut butter granola bars  lower fat'],\n",
       "        dtype=object),\n",
       "  array(['better than sex cake iii', 'microwave golden apple chunks',\n",
       "         'mother in law s rice pudding  arroz con leche',\n",
       "         'risotto in a pressure cooker',\n",
       "         'super fast  delicious  easy  and ooey gooey caramel corn'],\n",
       "        dtype=object)],\n",
       " [array(['wholly guacamole'], dtype=object),\n",
       "  array(['deviled eggs    done bobby s way', 'feijoada',\n",
       "         'mousse de tomates', 'zuppanitz  soup of nothing'], dtype=object)],\n",
       " [array(['should be illegal oven bbq ribs'], dtype=object),\n",
       "  array(['deviled eggs    done bobby s way', 'feijoada',\n",
       "         'mousse de tomates', 'zuppanitz  soup of nothing'], dtype=object)],\n",
       " [array(['the best chili you will ever taste'], dtype=object),\n",
       "  array(['deviled eggs    done bobby s way', 'feijoada',\n",
       "         'mousse de tomates', 'zuppanitz  soup of nothing'], dtype=object)]]"
      ]
     },
     "execution_count": 22,
     "metadata": {},
     "output_type": "execute_result"
    }
   ],
   "source": [
    "recipe_recs = evaluate_model_performance(random_userids)\n",
    "recipe_recs"
   ]
  },
  {
   "cell_type": "code",
   "execution_count": 23,
   "id": "0b7e8b25",
   "metadata": {},
   "outputs": [
    {
     "name": "stdout",
     "output_type": "stream",
     "text": [
      "Mean relevancy score of the random sample: 0.42\n"
     ]
    }
   ],
   "source": [
    "relevancy_scores = [0.4, 0.8,0, 0.8, 0.6, 0.4, 0.6,0.8, 0.4, 0.6,0.8, 0, 0,0.4,0,0.6,0.8,0.2,0.2,0]\n",
    "relevancy_scores = pd.Series(relevancy_scores)\n",
    "print('Mean relevancy score of the random sample:', relevancy_scores.mean().round(2))"
   ]
  },
  {
   "cell_type": "code",
   "execution_count": 24,
   "id": "3a46eb29",
   "metadata": {},
   "outputs": [
    {
     "data": {
      "image/png": "[encoded data removed]",
      "text/plain": [
       "<Figure size 640x480 with 1 Axes>"
      ]
     },
     "metadata": {},
     "output_type": "display_data"
    }
   ],
   "source": [
    "relevancy_scores.plot.hist(bins=5)\n",
    "plt.axvline(relevancy_scores.mean(), color='k', linestyle='dashed', linewidth=1)\n",
    "plt.xlabel('Relevancy Scores')\n",
    "plt.ylabel('Number of users')\n",
    "plt.title('Relevancy score histogram of the random user sample with the mean')\n",
    "plt.show()"
   ]
  },
  {
   "cell_type": "markdown",
   "id": "94f4591e",
   "metadata": {},
   "source": [
    "The relevancy scores show that on an average 2 out of 5 recommended recipes are relevant for each user in the random sample."
   ]
  },
  {
   "cell_type": "markdown",
   "id": "af54c8fa",
   "metadata": {},
   "source": [
    "## 9. Conclusions"
   ]
  },
  {
   "attachments": {},
   "cell_type": "markdown",
   "id": "ab5c376d",
   "metadata": {},
   "source": [
    "- Main recommendation engine uses the following types:\n",
    "    - Simple: Top-n rated recipes by all users\n",
    "    - Content: Top-n closest recipes to a given recipe\n",
    "    - Hybrid: Top-n closest recipes reviewed by users most similar to a given user's recipe history\n",
    "- In lieu of established performance metrics, model performance was manually assessed to find 2/5 recommendations relevant for each user in a random sample of 20.\n",
    "- To improve recommender performance, more features could be extracted from the data such as recipe type (appetizer, entrée, etc), and the ingredients can be analyzed further.\n",
    "- Ultimately, the data dictates the model performance therefore better datasets, particularly one that provides more metadata about the users would be the best way to improve performance."
   ]
  }
 ],
 "metadata": {
  "kernelspec": {
   "display_name": "Python 3 (ipykernel)",
   "language": "python",
   "name": "python3"
  },
  "language_info": {
   "codemirror_mode": {
    "name": "ipython",
    "version": 3
   },
   "file_extension": ".py",
   "mimetype": "text/x-python",
   "name": "python",
   "nbconvert_exporter": "python",
   "pygments_lexer": "ipython3",
   "version": "3.9.7"
  }
 },
 "nbformat": 4,
 "nbformat_minor": 5
}
